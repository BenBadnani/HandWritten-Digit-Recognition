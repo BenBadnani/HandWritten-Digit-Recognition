{
  "nbformat": 4,
  "nbformat_minor": 0,
  "metadata": {
    "kernelspec": {
      "display_name": "Python 3",
      "language": "python",
      "name": "python3"
    },
    "language_info": {
      "codemirror_mode": {
        "name": "ipython",
        "version": 3
      },
      "file_extension": ".py",
      "mimetype": "text/x-python",
      "name": "python",
      "nbconvert_exporter": "python",
      "pygments_lexer": "ipython3",
      "version": "3.8.5"
    },
    "colab": {
      "name": "Hello_World.ipynb",
      "provenance": [],
      "collapsed_sections": []
    },
    "accelerator": "GPU",
    "widgets": {
      "application/vnd.jupyter.widget-state+json": {
        "1ed35842a8bf440bbf566222faa1dfcf": {
          "model_module": "@jupyter-widgets/controls",
          "model_name": "HBoxModel",
          "model_module_version": "1.5.0",
          "state": {
            "_view_name": "HBoxView",
            "_dom_classes": [],
            "_model_name": "HBoxModel",
            "_view_module": "@jupyter-widgets/controls",
            "_model_module_version": "1.5.0",
            "_view_count": null,
            "_view_module_version": "1.5.0",
            "box_style": "",
            "layout": "IPY_MODEL_8e5601a96cf94946becec14a3d5bdce2",
            "_model_module": "@jupyter-widgets/controls",
            "children": [
              "IPY_MODEL_614e87f87d0b46ee8af8ee290c703d44",
              "IPY_MODEL_07f1246f689045d99e5f034a22bd039b",
              "IPY_MODEL_ae372a7f0d2944d28e2b647f26b1867b"
            ]
          }
        },
        "8e5601a96cf94946becec14a3d5bdce2": {
          "model_module": "@jupyter-widgets/base",
          "model_name": "LayoutModel",
          "model_module_version": "1.2.0",
          "state": {
            "_view_name": "LayoutView",
            "grid_template_rows": null,
            "right": null,
            "justify_content": null,
            "_view_module": "@jupyter-widgets/base",
            "overflow": null,
            "_model_module_version": "1.2.0",
            "_view_count": null,
            "flex_flow": null,
            "width": null,
            "min_width": null,
            "border": null,
            "align_items": null,
            "bottom": null,
            "_model_module": "@jupyter-widgets/base",
            "top": null,
            "grid_column": null,
            "overflow_y": null,
            "overflow_x": null,
            "grid_auto_flow": null,
            "grid_area": null,
            "grid_template_columns": null,
            "flex": null,
            "_model_name": "LayoutModel",
            "justify_items": null,
            "grid_row": null,
            "max_height": null,
            "align_content": null,
            "visibility": null,
            "align_self": null,
            "height": null,
            "min_height": null,
            "padding": null,
            "grid_auto_rows": null,
            "grid_gap": null,
            "max_width": null,
            "order": null,
            "_view_module_version": "1.2.0",
            "grid_template_areas": null,
            "object_position": null,
            "object_fit": null,
            "grid_auto_columns": null,
            "margin": null,
            "display": null,
            "left": null
          }
        },
        "614e87f87d0b46ee8af8ee290c703d44": {
          "model_module": "@jupyter-widgets/controls",
          "model_name": "HTMLModel",
          "model_module_version": "1.5.0",
          "state": {
            "_view_name": "HTMLView",
            "style": "IPY_MODEL_f7385355ddc54f348f90a7604db8b4d3",
            "_dom_classes": [],
            "description": "",
            "_model_name": "HTMLModel",
            "placeholder": "​",
            "_view_module": "@jupyter-widgets/controls",
            "_model_module_version": "1.5.0",
            "value": "",
            "_view_count": null,
            "_view_module_version": "1.5.0",
            "description_tooltip": null,
            "_model_module": "@jupyter-widgets/controls",
            "layout": "IPY_MODEL_53847a8329d643d7aba2cbd35146d116"
          }
        },
        "07f1246f689045d99e5f034a22bd039b": {
          "model_module": "@jupyter-widgets/controls",
          "model_name": "FloatProgressModel",
          "model_module_version": "1.5.0",
          "state": {
            "_view_name": "ProgressView",
            "style": "IPY_MODEL_638647b63a1d49cfba1def0b0f0051d6",
            "_dom_classes": [],
            "description": "",
            "_model_name": "FloatProgressModel",
            "bar_style": "success",
            "max": 9912422,
            "_view_module": "@jupyter-widgets/controls",
            "_model_module_version": "1.5.0",
            "value": 9912422,
            "_view_count": null,
            "_view_module_version": "1.5.0",
            "orientation": "horizontal",
            "min": 0,
            "description_tooltip": null,
            "_model_module": "@jupyter-widgets/controls",
            "layout": "IPY_MODEL_1f201a4247ae4c1fbb151eced9971555"
          }
        },
        "ae372a7f0d2944d28e2b647f26b1867b": {
          "model_module": "@jupyter-widgets/controls",
          "model_name": "HTMLModel",
          "model_module_version": "1.5.0",
          "state": {
            "_view_name": "HTMLView",
            "style": "IPY_MODEL_9bd05dcfa0fe40248981c8129542a528",
            "_dom_classes": [],
            "description": "",
            "_model_name": "HTMLModel",
            "placeholder": "​",
            "_view_module": "@jupyter-widgets/controls",
            "_model_module_version": "1.5.0",
            "value": " 9913344/? [00:00&lt;00:00, 20590991.58it/s]",
            "_view_count": null,
            "_view_module_version": "1.5.0",
            "description_tooltip": null,
            "_model_module": "@jupyter-widgets/controls",
            "layout": "IPY_MODEL_8b9186aeb735494db4acfce1dca26b10"
          }
        },
        "f7385355ddc54f348f90a7604db8b4d3": {
          "model_module": "@jupyter-widgets/controls",
          "model_name": "DescriptionStyleModel",
          "model_module_version": "1.5.0",
          "state": {
            "_view_name": "StyleView",
            "_model_name": "DescriptionStyleModel",
            "description_width": "",
            "_view_module": "@jupyter-widgets/base",
            "_model_module_version": "1.5.0",
            "_view_count": null,
            "_view_module_version": "1.2.0",
            "_model_module": "@jupyter-widgets/controls"
          }
        },
        "53847a8329d643d7aba2cbd35146d116": {
          "model_module": "@jupyter-widgets/base",
          "model_name": "LayoutModel",
          "model_module_version": "1.2.0",
          "state": {
            "_view_name": "LayoutView",
            "grid_template_rows": null,
            "right": null,
            "justify_content": null,
            "_view_module": "@jupyter-widgets/base",
            "overflow": null,
            "_model_module_version": "1.2.0",
            "_view_count": null,
            "flex_flow": null,
            "width": null,
            "min_width": null,
            "border": null,
            "align_items": null,
            "bottom": null,
            "_model_module": "@jupyter-widgets/base",
            "top": null,
            "grid_column": null,
            "overflow_y": null,
            "overflow_x": null,
            "grid_auto_flow": null,
            "grid_area": null,
            "grid_template_columns": null,
            "flex": null,
            "_model_name": "LayoutModel",
            "justify_items": null,
            "grid_row": null,
            "max_height": null,
            "align_content": null,
            "visibility": null,
            "align_self": null,
            "height": null,
            "min_height": null,
            "padding": null,
            "grid_auto_rows": null,
            "grid_gap": null,
            "max_width": null,
            "order": null,
            "_view_module_version": "1.2.0",
            "grid_template_areas": null,
            "object_position": null,
            "object_fit": null,
            "grid_auto_columns": null,
            "margin": null,
            "display": null,
            "left": null
          }
        },
        "638647b63a1d49cfba1def0b0f0051d6": {
          "model_module": "@jupyter-widgets/controls",
          "model_name": "ProgressStyleModel",
          "model_module_version": "1.5.0",
          "state": {
            "_view_name": "StyleView",
            "_model_name": "ProgressStyleModel",
            "description_width": "",
            "_view_module": "@jupyter-widgets/base",
            "_model_module_version": "1.5.0",
            "_view_count": null,
            "_view_module_version": "1.2.0",
            "bar_color": null,
            "_model_module": "@jupyter-widgets/controls"
          }
        },
        "1f201a4247ae4c1fbb151eced9971555": {
          "model_module": "@jupyter-widgets/base",
          "model_name": "LayoutModel",
          "model_module_version": "1.2.0",
          "state": {
            "_view_name": "LayoutView",
            "grid_template_rows": null,
            "right": null,
            "justify_content": null,
            "_view_module": "@jupyter-widgets/base",
            "overflow": null,
            "_model_module_version": "1.2.0",
            "_view_count": null,
            "flex_flow": null,
            "width": null,
            "min_width": null,
            "border": null,
            "align_items": null,
            "bottom": null,
            "_model_module": "@jupyter-widgets/base",
            "top": null,
            "grid_column": null,
            "overflow_y": null,
            "overflow_x": null,
            "grid_auto_flow": null,
            "grid_area": null,
            "grid_template_columns": null,
            "flex": null,
            "_model_name": "LayoutModel",
            "justify_items": null,
            "grid_row": null,
            "max_height": null,
            "align_content": null,
            "visibility": null,
            "align_self": null,
            "height": null,
            "min_height": null,
            "padding": null,
            "grid_auto_rows": null,
            "grid_gap": null,
            "max_width": null,
            "order": null,
            "_view_module_version": "1.2.0",
            "grid_template_areas": null,
            "object_position": null,
            "object_fit": null,
            "grid_auto_columns": null,
            "margin": null,
            "display": null,
            "left": null
          }
        },
        "9bd05dcfa0fe40248981c8129542a528": {
          "model_module": "@jupyter-widgets/controls",
          "model_name": "DescriptionStyleModel",
          "model_module_version": "1.5.0",
          "state": {
            "_view_name": "StyleView",
            "_model_name": "DescriptionStyleModel",
            "description_width": "",
            "_view_module": "@jupyter-widgets/base",
            "_model_module_version": "1.5.0",
            "_view_count": null,
            "_view_module_version": "1.2.0",
            "_model_module": "@jupyter-widgets/controls"
          }
        },
        "8b9186aeb735494db4acfce1dca26b10": {
          "model_module": "@jupyter-widgets/base",
          "model_name": "LayoutModel",
          "model_module_version": "1.2.0",
          "state": {
            "_view_name": "LayoutView",
            "grid_template_rows": null,
            "right": null,
            "justify_content": null,
            "_view_module": "@jupyter-widgets/base",
            "overflow": null,
            "_model_module_version": "1.2.0",
            "_view_count": null,
            "flex_flow": null,
            "width": null,
            "min_width": null,
            "border": null,
            "align_items": null,
            "bottom": null,
            "_model_module": "@jupyter-widgets/base",
            "top": null,
            "grid_column": null,
            "overflow_y": null,
            "overflow_x": null,
            "grid_auto_flow": null,
            "grid_area": null,
            "grid_template_columns": null,
            "flex": null,
            "_model_name": "LayoutModel",
            "justify_items": null,
            "grid_row": null,
            "max_height": null,
            "align_content": null,
            "visibility": null,
            "align_self": null,
            "height": null,
            "min_height": null,
            "padding": null,
            "grid_auto_rows": null,
            "grid_gap": null,
            "max_width": null,
            "order": null,
            "_view_module_version": "1.2.0",
            "grid_template_areas": null,
            "object_position": null,
            "object_fit": null,
            "grid_auto_columns": null,
            "margin": null,
            "display": null,
            "left": null
          }
        },
        "6a8ee58bb31049099abc52d821abcc81": {
          "model_module": "@jupyter-widgets/controls",
          "model_name": "HBoxModel",
          "model_module_version": "1.5.0",
          "state": {
            "_view_name": "HBoxView",
            "_dom_classes": [],
            "_model_name": "HBoxModel",
            "_view_module": "@jupyter-widgets/controls",
            "_model_module_version": "1.5.0",
            "_view_count": null,
            "_view_module_version": "1.5.0",
            "box_style": "",
            "layout": "IPY_MODEL_8792989374e0419d9c1eb19bca0f673c",
            "_model_module": "@jupyter-widgets/controls",
            "children": [
              "IPY_MODEL_a7f06f50d4ae43ff82272aa780c69b0a",
              "IPY_MODEL_dbba80022c534640b736ebbbaed14213",
              "IPY_MODEL_853d12999a55489cbe5d7c281e33facd"
            ]
          }
        },
        "8792989374e0419d9c1eb19bca0f673c": {
          "model_module": "@jupyter-widgets/base",
          "model_name": "LayoutModel",
          "model_module_version": "1.2.0",
          "state": {
            "_view_name": "LayoutView",
            "grid_template_rows": null,
            "right": null,
            "justify_content": null,
            "_view_module": "@jupyter-widgets/base",
            "overflow": null,
            "_model_module_version": "1.2.0",
            "_view_count": null,
            "flex_flow": null,
            "width": null,
            "min_width": null,
            "border": null,
            "align_items": null,
            "bottom": null,
            "_model_module": "@jupyter-widgets/base",
            "top": null,
            "grid_column": null,
            "overflow_y": null,
            "overflow_x": null,
            "grid_auto_flow": null,
            "grid_area": null,
            "grid_template_columns": null,
            "flex": null,
            "_model_name": "LayoutModel",
            "justify_items": null,
            "grid_row": null,
            "max_height": null,
            "align_content": null,
            "visibility": null,
            "align_self": null,
            "height": null,
            "min_height": null,
            "padding": null,
            "grid_auto_rows": null,
            "grid_gap": null,
            "max_width": null,
            "order": null,
            "_view_module_version": "1.2.0",
            "grid_template_areas": null,
            "object_position": null,
            "object_fit": null,
            "grid_auto_columns": null,
            "margin": null,
            "display": null,
            "left": null
          }
        },
        "a7f06f50d4ae43ff82272aa780c69b0a": {
          "model_module": "@jupyter-widgets/controls",
          "model_name": "HTMLModel",
          "model_module_version": "1.5.0",
          "state": {
            "_view_name": "HTMLView",
            "style": "IPY_MODEL_e0d2838f3eeb45fa9d4dba015a11e96e",
            "_dom_classes": [],
            "description": "",
            "_model_name": "HTMLModel",
            "placeholder": "​",
            "_view_module": "@jupyter-widgets/controls",
            "_model_module_version": "1.5.0",
            "value": "",
            "_view_count": null,
            "_view_module_version": "1.5.0",
            "description_tooltip": null,
            "_model_module": "@jupyter-widgets/controls",
            "layout": "IPY_MODEL_dbd7e73f96df4ff59e1716bc4336b2f0"
          }
        },
        "dbba80022c534640b736ebbbaed14213": {
          "model_module": "@jupyter-widgets/controls",
          "model_name": "FloatProgressModel",
          "model_module_version": "1.5.0",
          "state": {
            "_view_name": "ProgressView",
            "style": "IPY_MODEL_8db308758878428ebb35053a57b392b3",
            "_dom_classes": [],
            "description": "",
            "_model_name": "FloatProgressModel",
            "bar_style": "success",
            "max": 28881,
            "_view_module": "@jupyter-widgets/controls",
            "_model_module_version": "1.5.0",
            "value": 28881,
            "_view_count": null,
            "_view_module_version": "1.5.0",
            "orientation": "horizontal",
            "min": 0,
            "description_tooltip": null,
            "_model_module": "@jupyter-widgets/controls",
            "layout": "IPY_MODEL_8fccc3e1000c44f1859557c046ade629"
          }
        },
        "853d12999a55489cbe5d7c281e33facd": {
          "model_module": "@jupyter-widgets/controls",
          "model_name": "HTMLModel",
          "model_module_version": "1.5.0",
          "state": {
            "_view_name": "HTMLView",
            "style": "IPY_MODEL_4c10a2e4cef34c538ce92501787ab6cd",
            "_dom_classes": [],
            "description": "",
            "_model_name": "HTMLModel",
            "placeholder": "​",
            "_view_module": "@jupyter-widgets/controls",
            "_model_module_version": "1.5.0",
            "value": " 29696/? [00:00&lt;00:00, 604153.27it/s]",
            "_view_count": null,
            "_view_module_version": "1.5.0",
            "description_tooltip": null,
            "_model_module": "@jupyter-widgets/controls",
            "layout": "IPY_MODEL_6efe725c38564f45a9d4585ee15a67df"
          }
        },
        "e0d2838f3eeb45fa9d4dba015a11e96e": {
          "model_module": "@jupyter-widgets/controls",
          "model_name": "DescriptionStyleModel",
          "model_module_version": "1.5.0",
          "state": {
            "_view_name": "StyleView",
            "_model_name": "DescriptionStyleModel",
            "description_width": "",
            "_view_module": "@jupyter-widgets/base",
            "_model_module_version": "1.5.0",
            "_view_count": null,
            "_view_module_version": "1.2.0",
            "_model_module": "@jupyter-widgets/controls"
          }
        },
        "dbd7e73f96df4ff59e1716bc4336b2f0": {
          "model_module": "@jupyter-widgets/base",
          "model_name": "LayoutModel",
          "model_module_version": "1.2.0",
          "state": {
            "_view_name": "LayoutView",
            "grid_template_rows": null,
            "right": null,
            "justify_content": null,
            "_view_module": "@jupyter-widgets/base",
            "overflow": null,
            "_model_module_version": "1.2.0",
            "_view_count": null,
            "flex_flow": null,
            "width": null,
            "min_width": null,
            "border": null,
            "align_items": null,
            "bottom": null,
            "_model_module": "@jupyter-widgets/base",
            "top": null,
            "grid_column": null,
            "overflow_y": null,
            "overflow_x": null,
            "grid_auto_flow": null,
            "grid_area": null,
            "grid_template_columns": null,
            "flex": null,
            "_model_name": "LayoutModel",
            "justify_items": null,
            "grid_row": null,
            "max_height": null,
            "align_content": null,
            "visibility": null,
            "align_self": null,
            "height": null,
            "min_height": null,
            "padding": null,
            "grid_auto_rows": null,
            "grid_gap": null,
            "max_width": null,
            "order": null,
            "_view_module_version": "1.2.0",
            "grid_template_areas": null,
            "object_position": null,
            "object_fit": null,
            "grid_auto_columns": null,
            "margin": null,
            "display": null,
            "left": null
          }
        },
        "8db308758878428ebb35053a57b392b3": {
          "model_module": "@jupyter-widgets/controls",
          "model_name": "ProgressStyleModel",
          "model_module_version": "1.5.0",
          "state": {
            "_view_name": "StyleView",
            "_model_name": "ProgressStyleModel",
            "description_width": "",
            "_view_module": "@jupyter-widgets/base",
            "_model_module_version": "1.5.0",
            "_view_count": null,
            "_view_module_version": "1.2.0",
            "bar_color": null,
            "_model_module": "@jupyter-widgets/controls"
          }
        },
        "8fccc3e1000c44f1859557c046ade629": {
          "model_module": "@jupyter-widgets/base",
          "model_name": "LayoutModel",
          "model_module_version": "1.2.0",
          "state": {
            "_view_name": "LayoutView",
            "grid_template_rows": null,
            "right": null,
            "justify_content": null,
            "_view_module": "@jupyter-widgets/base",
            "overflow": null,
            "_model_module_version": "1.2.0",
            "_view_count": null,
            "flex_flow": null,
            "width": null,
            "min_width": null,
            "border": null,
            "align_items": null,
            "bottom": null,
            "_model_module": "@jupyter-widgets/base",
            "top": null,
            "grid_column": null,
            "overflow_y": null,
            "overflow_x": null,
            "grid_auto_flow": null,
            "grid_area": null,
            "grid_template_columns": null,
            "flex": null,
            "_model_name": "LayoutModel",
            "justify_items": null,
            "grid_row": null,
            "max_height": null,
            "align_content": null,
            "visibility": null,
            "align_self": null,
            "height": null,
            "min_height": null,
            "padding": null,
            "grid_auto_rows": null,
            "grid_gap": null,
            "max_width": null,
            "order": null,
            "_view_module_version": "1.2.0",
            "grid_template_areas": null,
            "object_position": null,
            "object_fit": null,
            "grid_auto_columns": null,
            "margin": null,
            "display": null,
            "left": null
          }
        },
        "4c10a2e4cef34c538ce92501787ab6cd": {
          "model_module": "@jupyter-widgets/controls",
          "model_name": "DescriptionStyleModel",
          "model_module_version": "1.5.0",
          "state": {
            "_view_name": "StyleView",
            "_model_name": "DescriptionStyleModel",
            "description_width": "",
            "_view_module": "@jupyter-widgets/base",
            "_model_module_version": "1.5.0",
            "_view_count": null,
            "_view_module_version": "1.2.0",
            "_model_module": "@jupyter-widgets/controls"
          }
        },
        "6efe725c38564f45a9d4585ee15a67df": {
          "model_module": "@jupyter-widgets/base",
          "model_name": "LayoutModel",
          "model_module_version": "1.2.0",
          "state": {
            "_view_name": "LayoutView",
            "grid_template_rows": null,
            "right": null,
            "justify_content": null,
            "_view_module": "@jupyter-widgets/base",
            "overflow": null,
            "_model_module_version": "1.2.0",
            "_view_count": null,
            "flex_flow": null,
            "width": null,
            "min_width": null,
            "border": null,
            "align_items": null,
            "bottom": null,
            "_model_module": "@jupyter-widgets/base",
            "top": null,
            "grid_column": null,
            "overflow_y": null,
            "overflow_x": null,
            "grid_auto_flow": null,
            "grid_area": null,
            "grid_template_columns": null,
            "flex": null,
            "_model_name": "LayoutModel",
            "justify_items": null,
            "grid_row": null,
            "max_height": null,
            "align_content": null,
            "visibility": null,
            "align_self": null,
            "height": null,
            "min_height": null,
            "padding": null,
            "grid_auto_rows": null,
            "grid_gap": null,
            "max_width": null,
            "order": null,
            "_view_module_version": "1.2.0",
            "grid_template_areas": null,
            "object_position": null,
            "object_fit": null,
            "grid_auto_columns": null,
            "margin": null,
            "display": null,
            "left": null
          }
        },
        "390d183874d64990b0be98874c499231": {
          "model_module": "@jupyter-widgets/controls",
          "model_name": "HBoxModel",
          "model_module_version": "1.5.0",
          "state": {
            "_view_name": "HBoxView",
            "_dom_classes": [],
            "_model_name": "HBoxModel",
            "_view_module": "@jupyter-widgets/controls",
            "_model_module_version": "1.5.0",
            "_view_count": null,
            "_view_module_version": "1.5.0",
            "box_style": "",
            "layout": "IPY_MODEL_b304d0f3cc3b445f8f0d767e1aa90a39",
            "_model_module": "@jupyter-widgets/controls",
            "children": [
              "IPY_MODEL_f1b8e6d54c9d41ed989b96007aa81f00",
              "IPY_MODEL_e61f6c97172b4fca9682783d15f11619",
              "IPY_MODEL_7aba86ade84846b2ad6d42f533f9ffc1"
            ]
          }
        },
        "b304d0f3cc3b445f8f0d767e1aa90a39": {
          "model_module": "@jupyter-widgets/base",
          "model_name": "LayoutModel",
          "model_module_version": "1.2.0",
          "state": {
            "_view_name": "LayoutView",
            "grid_template_rows": null,
            "right": null,
            "justify_content": null,
            "_view_module": "@jupyter-widgets/base",
            "overflow": null,
            "_model_module_version": "1.2.0",
            "_view_count": null,
            "flex_flow": null,
            "width": null,
            "min_width": null,
            "border": null,
            "align_items": null,
            "bottom": null,
            "_model_module": "@jupyter-widgets/base",
            "top": null,
            "grid_column": null,
            "overflow_y": null,
            "overflow_x": null,
            "grid_auto_flow": null,
            "grid_area": null,
            "grid_template_columns": null,
            "flex": null,
            "_model_name": "LayoutModel",
            "justify_items": null,
            "grid_row": null,
            "max_height": null,
            "align_content": null,
            "visibility": null,
            "align_self": null,
            "height": null,
            "min_height": null,
            "padding": null,
            "grid_auto_rows": null,
            "grid_gap": null,
            "max_width": null,
            "order": null,
            "_view_module_version": "1.2.0",
            "grid_template_areas": null,
            "object_position": null,
            "object_fit": null,
            "grid_auto_columns": null,
            "margin": null,
            "display": null,
            "left": null
          }
        },
        "f1b8e6d54c9d41ed989b96007aa81f00": {
          "model_module": "@jupyter-widgets/controls",
          "model_name": "HTMLModel",
          "model_module_version": "1.5.0",
          "state": {
            "_view_name": "HTMLView",
            "style": "IPY_MODEL_08a02283eb2d49789d542e8bb58697cb",
            "_dom_classes": [],
            "description": "",
            "_model_name": "HTMLModel",
            "placeholder": "​",
            "_view_module": "@jupyter-widgets/controls",
            "_model_module_version": "1.5.0",
            "value": "",
            "_view_count": null,
            "_view_module_version": "1.5.0",
            "description_tooltip": null,
            "_model_module": "@jupyter-widgets/controls",
            "layout": "IPY_MODEL_0212feb03d35412ab17ceeb392df58f4"
          }
        },
        "e61f6c97172b4fca9682783d15f11619": {
          "model_module": "@jupyter-widgets/controls",
          "model_name": "FloatProgressModel",
          "model_module_version": "1.5.0",
          "state": {
            "_view_name": "ProgressView",
            "style": "IPY_MODEL_b25bbeaacf6a498cbf53ebb21806db01",
            "_dom_classes": [],
            "description": "",
            "_model_name": "FloatProgressModel",
            "bar_style": "success",
            "max": 1648877,
            "_view_module": "@jupyter-widgets/controls",
            "_model_module_version": "1.5.0",
            "value": 1648877,
            "_view_count": null,
            "_view_module_version": "1.5.0",
            "orientation": "horizontal",
            "min": 0,
            "description_tooltip": null,
            "_model_module": "@jupyter-widgets/controls",
            "layout": "IPY_MODEL_e994f03ebce340fc960dd0723499f8e4"
          }
        },
        "7aba86ade84846b2ad6d42f533f9ffc1": {
          "model_module": "@jupyter-widgets/controls",
          "model_name": "HTMLModel",
          "model_module_version": "1.5.0",
          "state": {
            "_view_name": "HTMLView",
            "style": "IPY_MODEL_41888802b32c48509531fa4bf4ab26fc",
            "_dom_classes": [],
            "description": "",
            "_model_name": "HTMLModel",
            "placeholder": "​",
            "_view_module": "@jupyter-widgets/controls",
            "_model_module_version": "1.5.0",
            "value": " 1649664/? [00:00&lt;00:00, 5606977.39it/s]",
            "_view_count": null,
            "_view_module_version": "1.5.0",
            "description_tooltip": null,
            "_model_module": "@jupyter-widgets/controls",
            "layout": "IPY_MODEL_dcaaa87a57e0431cac491fe5ec6843c9"
          }
        },
        "08a02283eb2d49789d542e8bb58697cb": {
          "model_module": "@jupyter-widgets/controls",
          "model_name": "DescriptionStyleModel",
          "model_module_version": "1.5.0",
          "state": {
            "_view_name": "StyleView",
            "_model_name": "DescriptionStyleModel",
            "description_width": "",
            "_view_module": "@jupyter-widgets/base",
            "_model_module_version": "1.5.0",
            "_view_count": null,
            "_view_module_version": "1.2.0",
            "_model_module": "@jupyter-widgets/controls"
          }
        },
        "0212feb03d35412ab17ceeb392df58f4": {
          "model_module": "@jupyter-widgets/base",
          "model_name": "LayoutModel",
          "model_module_version": "1.2.0",
          "state": {
            "_view_name": "LayoutView",
            "grid_template_rows": null,
            "right": null,
            "justify_content": null,
            "_view_module": "@jupyter-widgets/base",
            "overflow": null,
            "_model_module_version": "1.2.0",
            "_view_count": null,
            "flex_flow": null,
            "width": null,
            "min_width": null,
            "border": null,
            "align_items": null,
            "bottom": null,
            "_model_module": "@jupyter-widgets/base",
            "top": null,
            "grid_column": null,
            "overflow_y": null,
            "overflow_x": null,
            "grid_auto_flow": null,
            "grid_area": null,
            "grid_template_columns": null,
            "flex": null,
            "_model_name": "LayoutModel",
            "justify_items": null,
            "grid_row": null,
            "max_height": null,
            "align_content": null,
            "visibility": null,
            "align_self": null,
            "height": null,
            "min_height": null,
            "padding": null,
            "grid_auto_rows": null,
            "grid_gap": null,
            "max_width": null,
            "order": null,
            "_view_module_version": "1.2.0",
            "grid_template_areas": null,
            "object_position": null,
            "object_fit": null,
            "grid_auto_columns": null,
            "margin": null,
            "display": null,
            "left": null
          }
        },
        "b25bbeaacf6a498cbf53ebb21806db01": {
          "model_module": "@jupyter-widgets/controls",
          "model_name": "ProgressStyleModel",
          "model_module_version": "1.5.0",
          "state": {
            "_view_name": "StyleView",
            "_model_name": "ProgressStyleModel",
            "description_width": "",
            "_view_module": "@jupyter-widgets/base",
            "_model_module_version": "1.5.0",
            "_view_count": null,
            "_view_module_version": "1.2.0",
            "bar_color": null,
            "_model_module": "@jupyter-widgets/controls"
          }
        },
        "e994f03ebce340fc960dd0723499f8e4": {
          "model_module": "@jupyter-widgets/base",
          "model_name": "LayoutModel",
          "model_module_version": "1.2.0",
          "state": {
            "_view_name": "LayoutView",
            "grid_template_rows": null,
            "right": null,
            "justify_content": null,
            "_view_module": "@jupyter-widgets/base",
            "overflow": null,
            "_model_module_version": "1.2.0",
            "_view_count": null,
            "flex_flow": null,
            "width": null,
            "min_width": null,
            "border": null,
            "align_items": null,
            "bottom": null,
            "_model_module": "@jupyter-widgets/base",
            "top": null,
            "grid_column": null,
            "overflow_y": null,
            "overflow_x": null,
            "grid_auto_flow": null,
            "grid_area": null,
            "grid_template_columns": null,
            "flex": null,
            "_model_name": "LayoutModel",
            "justify_items": null,
            "grid_row": null,
            "max_height": null,
            "align_content": null,
            "visibility": null,
            "align_self": null,
            "height": null,
            "min_height": null,
            "padding": null,
            "grid_auto_rows": null,
            "grid_gap": null,
            "max_width": null,
            "order": null,
            "_view_module_version": "1.2.0",
            "grid_template_areas": null,
            "object_position": null,
            "object_fit": null,
            "grid_auto_columns": null,
            "margin": null,
            "display": null,
            "left": null
          }
        },
        "41888802b32c48509531fa4bf4ab26fc": {
          "model_module": "@jupyter-widgets/controls",
          "model_name": "DescriptionStyleModel",
          "model_module_version": "1.5.0",
          "state": {
            "_view_name": "StyleView",
            "_model_name": "DescriptionStyleModel",
            "description_width": "",
            "_view_module": "@jupyter-widgets/base",
            "_model_module_version": "1.5.0",
            "_view_count": null,
            "_view_module_version": "1.2.0",
            "_model_module": "@jupyter-widgets/controls"
          }
        },
        "dcaaa87a57e0431cac491fe5ec6843c9": {
          "model_module": "@jupyter-widgets/base",
          "model_name": "LayoutModel",
          "model_module_version": "1.2.0",
          "state": {
            "_view_name": "LayoutView",
            "grid_template_rows": null,
            "right": null,
            "justify_content": null,
            "_view_module": "@jupyter-widgets/base",
            "overflow": null,
            "_model_module_version": "1.2.0",
            "_view_count": null,
            "flex_flow": null,
            "width": null,
            "min_width": null,
            "border": null,
            "align_items": null,
            "bottom": null,
            "_model_module": "@jupyter-widgets/base",
            "top": null,
            "grid_column": null,
            "overflow_y": null,
            "overflow_x": null,
            "grid_auto_flow": null,
            "grid_area": null,
            "grid_template_columns": null,
            "flex": null,
            "_model_name": "LayoutModel",
            "justify_items": null,
            "grid_row": null,
            "max_height": null,
            "align_content": null,
            "visibility": null,
            "align_self": null,
            "height": null,
            "min_height": null,
            "padding": null,
            "grid_auto_rows": null,
            "grid_gap": null,
            "max_width": null,
            "order": null,
            "_view_module_version": "1.2.0",
            "grid_template_areas": null,
            "object_position": null,
            "object_fit": null,
            "grid_auto_columns": null,
            "margin": null,
            "display": null,
            "left": null
          }
        },
        "5ca987936c15434293570dda6b3c8e79": {
          "model_module": "@jupyter-widgets/controls",
          "model_name": "HBoxModel",
          "model_module_version": "1.5.0",
          "state": {
            "_view_name": "HBoxView",
            "_dom_classes": [],
            "_model_name": "HBoxModel",
            "_view_module": "@jupyter-widgets/controls",
            "_model_module_version": "1.5.0",
            "_view_count": null,
            "_view_module_version": "1.5.0",
            "box_style": "",
            "layout": "IPY_MODEL_aaab068b8d0c4f35afdba0d9365ef75d",
            "_model_module": "@jupyter-widgets/controls",
            "children": [
              "IPY_MODEL_4d787790931d4106a5d97696bd252dce",
              "IPY_MODEL_dbb3cd0a11524a93b1f129035b45bb5f",
              "IPY_MODEL_248174ca5d6f4761acc63aac29c14a5c"
            ]
          }
        },
        "aaab068b8d0c4f35afdba0d9365ef75d": {
          "model_module": "@jupyter-widgets/base",
          "model_name": "LayoutModel",
          "model_module_version": "1.2.0",
          "state": {
            "_view_name": "LayoutView",
            "grid_template_rows": null,
            "right": null,
            "justify_content": null,
            "_view_module": "@jupyter-widgets/base",
            "overflow": null,
            "_model_module_version": "1.2.0",
            "_view_count": null,
            "flex_flow": null,
            "width": null,
            "min_width": null,
            "border": null,
            "align_items": null,
            "bottom": null,
            "_model_module": "@jupyter-widgets/base",
            "top": null,
            "grid_column": null,
            "overflow_y": null,
            "overflow_x": null,
            "grid_auto_flow": null,
            "grid_area": null,
            "grid_template_columns": null,
            "flex": null,
            "_model_name": "LayoutModel",
            "justify_items": null,
            "grid_row": null,
            "max_height": null,
            "align_content": null,
            "visibility": null,
            "align_self": null,
            "height": null,
            "min_height": null,
            "padding": null,
            "grid_auto_rows": null,
            "grid_gap": null,
            "max_width": null,
            "order": null,
            "_view_module_version": "1.2.0",
            "grid_template_areas": null,
            "object_position": null,
            "object_fit": null,
            "grid_auto_columns": null,
            "margin": null,
            "display": null,
            "left": null
          }
        },
        "4d787790931d4106a5d97696bd252dce": {
          "model_module": "@jupyter-widgets/controls",
          "model_name": "HTMLModel",
          "model_module_version": "1.5.0",
          "state": {
            "_view_name": "HTMLView",
            "style": "IPY_MODEL_3f2415eb56ca40dcbf722e6115721539",
            "_dom_classes": [],
            "description": "",
            "_model_name": "HTMLModel",
            "placeholder": "​",
            "_view_module": "@jupyter-widgets/controls",
            "_model_module_version": "1.5.0",
            "value": "",
            "_view_count": null,
            "_view_module_version": "1.5.0",
            "description_tooltip": null,
            "_model_module": "@jupyter-widgets/controls",
            "layout": "IPY_MODEL_04c571168ab440c0a7462bc67f2e0bf0"
          }
        },
        "dbb3cd0a11524a93b1f129035b45bb5f": {
          "model_module": "@jupyter-widgets/controls",
          "model_name": "FloatProgressModel",
          "model_module_version": "1.5.0",
          "state": {
            "_view_name": "ProgressView",
            "style": "IPY_MODEL_5bce08a980cb499e8be52a145281f676",
            "_dom_classes": [],
            "description": "",
            "_model_name": "FloatProgressModel",
            "bar_style": "success",
            "max": 4542,
            "_view_module": "@jupyter-widgets/controls",
            "_model_module_version": "1.5.0",
            "value": 4542,
            "_view_count": null,
            "_view_module_version": "1.5.0",
            "orientation": "horizontal",
            "min": 0,
            "description_tooltip": null,
            "_model_module": "@jupyter-widgets/controls",
            "layout": "IPY_MODEL_ba5c3291ed214c0e886cbf7964b04d2d"
          }
        },
        "248174ca5d6f4761acc63aac29c14a5c": {
          "model_module": "@jupyter-widgets/controls",
          "model_name": "HTMLModel",
          "model_module_version": "1.5.0",
          "state": {
            "_view_name": "HTMLView",
            "style": "IPY_MODEL_d81fd8dcfb5341138c4291e590a54d1a",
            "_dom_classes": [],
            "description": "",
            "_model_name": "HTMLModel",
            "placeholder": "​",
            "_view_module": "@jupyter-widgets/controls",
            "_model_module_version": "1.5.0",
            "value": " 5120/? [00:00&lt;00:00, 86451.60it/s]",
            "_view_count": null,
            "_view_module_version": "1.5.0",
            "description_tooltip": null,
            "_model_module": "@jupyter-widgets/controls",
            "layout": "IPY_MODEL_f9910fc6c315420482e700c3a267bc49"
          }
        },
        "3f2415eb56ca40dcbf722e6115721539": {
          "model_module": "@jupyter-widgets/controls",
          "model_name": "DescriptionStyleModel",
          "model_module_version": "1.5.0",
          "state": {
            "_view_name": "StyleView",
            "_model_name": "DescriptionStyleModel",
            "description_width": "",
            "_view_module": "@jupyter-widgets/base",
            "_model_module_version": "1.5.0",
            "_view_count": null,
            "_view_module_version": "1.2.0",
            "_model_module": "@jupyter-widgets/controls"
          }
        },
        "04c571168ab440c0a7462bc67f2e0bf0": {
          "model_module": "@jupyter-widgets/base",
          "model_name": "LayoutModel",
          "model_module_version": "1.2.0",
          "state": {
            "_view_name": "LayoutView",
            "grid_template_rows": null,
            "right": null,
            "justify_content": null,
            "_view_module": "@jupyter-widgets/base",
            "overflow": null,
            "_model_module_version": "1.2.0",
            "_view_count": null,
            "flex_flow": null,
            "width": null,
            "min_width": null,
            "border": null,
            "align_items": null,
            "bottom": null,
            "_model_module": "@jupyter-widgets/base",
            "top": null,
            "grid_column": null,
            "overflow_y": null,
            "overflow_x": null,
            "grid_auto_flow": null,
            "grid_area": null,
            "grid_template_columns": null,
            "flex": null,
            "_model_name": "LayoutModel",
            "justify_items": null,
            "grid_row": null,
            "max_height": null,
            "align_content": null,
            "visibility": null,
            "align_self": null,
            "height": null,
            "min_height": null,
            "padding": null,
            "grid_auto_rows": null,
            "grid_gap": null,
            "max_width": null,
            "order": null,
            "_view_module_version": "1.2.0",
            "grid_template_areas": null,
            "object_position": null,
            "object_fit": null,
            "grid_auto_columns": null,
            "margin": null,
            "display": null,
            "left": null
          }
        },
        "5bce08a980cb499e8be52a145281f676": {
          "model_module": "@jupyter-widgets/controls",
          "model_name": "ProgressStyleModel",
          "model_module_version": "1.5.0",
          "state": {
            "_view_name": "StyleView",
            "_model_name": "ProgressStyleModel",
            "description_width": "",
            "_view_module": "@jupyter-widgets/base",
            "_model_module_version": "1.5.0",
            "_view_count": null,
            "_view_module_version": "1.2.0",
            "bar_color": null,
            "_model_module": "@jupyter-widgets/controls"
          }
        },
        "ba5c3291ed214c0e886cbf7964b04d2d": {
          "model_module": "@jupyter-widgets/base",
          "model_name": "LayoutModel",
          "model_module_version": "1.2.0",
          "state": {
            "_view_name": "LayoutView",
            "grid_template_rows": null,
            "right": null,
            "justify_content": null,
            "_view_module": "@jupyter-widgets/base",
            "overflow": null,
            "_model_module_version": "1.2.0",
            "_view_count": null,
            "flex_flow": null,
            "width": null,
            "min_width": null,
            "border": null,
            "align_items": null,
            "bottom": null,
            "_model_module": "@jupyter-widgets/base",
            "top": null,
            "grid_column": null,
            "overflow_y": null,
            "overflow_x": null,
            "grid_auto_flow": null,
            "grid_area": null,
            "grid_template_columns": null,
            "flex": null,
            "_model_name": "LayoutModel",
            "justify_items": null,
            "grid_row": null,
            "max_height": null,
            "align_content": null,
            "visibility": null,
            "align_self": null,
            "height": null,
            "min_height": null,
            "padding": null,
            "grid_auto_rows": null,
            "grid_gap": null,
            "max_width": null,
            "order": null,
            "_view_module_version": "1.2.0",
            "grid_template_areas": null,
            "object_position": null,
            "object_fit": null,
            "grid_auto_columns": null,
            "margin": null,
            "display": null,
            "left": null
          }
        },
        "d81fd8dcfb5341138c4291e590a54d1a": {
          "model_module": "@jupyter-widgets/controls",
          "model_name": "DescriptionStyleModel",
          "model_module_version": "1.5.0",
          "state": {
            "_view_name": "StyleView",
            "_model_name": "DescriptionStyleModel",
            "description_width": "",
            "_view_module": "@jupyter-widgets/base",
            "_model_module_version": "1.5.0",
            "_view_count": null,
            "_view_module_version": "1.2.0",
            "_model_module": "@jupyter-widgets/controls"
          }
        },
        "f9910fc6c315420482e700c3a267bc49": {
          "model_module": "@jupyter-widgets/base",
          "model_name": "LayoutModel",
          "model_module_version": "1.2.0",
          "state": {
            "_view_name": "LayoutView",
            "grid_template_rows": null,
            "right": null,
            "justify_content": null,
            "_view_module": "@jupyter-widgets/base",
            "overflow": null,
            "_model_module_version": "1.2.0",
            "_view_count": null,
            "flex_flow": null,
            "width": null,
            "min_width": null,
            "border": null,
            "align_items": null,
            "bottom": null,
            "_model_module": "@jupyter-widgets/base",
            "top": null,
            "grid_column": null,
            "overflow_y": null,
            "overflow_x": null,
            "grid_auto_flow": null,
            "grid_area": null,
            "grid_template_columns": null,
            "flex": null,
            "_model_name": "LayoutModel",
            "justify_items": null,
            "grid_row": null,
            "max_height": null,
            "align_content": null,
            "visibility": null,
            "align_self": null,
            "height": null,
            "min_height": null,
            "padding": null,
            "grid_auto_rows": null,
            "grid_gap": null,
            "max_width": null,
            "order": null,
            "_view_module_version": "1.2.0",
            "grid_template_areas": null,
            "object_position": null,
            "object_fit": null,
            "grid_auto_columns": null,
            "margin": null,
            "display": null,
            "left": null
          }
        }
      }
    }
  },
  "cells": [
    {
      "cell_type": "code",
      "metadata": {
        "id": "2SnIeccyw8Ob"
      },
      "source": [
        "import torch \n",
        "from torch import nn, optim\n",
        "import torchvision \n",
        "from torchvision import datasets, transforms\n",
        "from torch.utils.data import DataLoader\n",
        "import matplotlib.pyplot as plt \n",
        "import math \n",
        "import numpy as np\n",
        "%matplotlib inline "
      ],
      "execution_count": 2,
      "outputs": []
    },
    {
      "cell_type": "code",
      "metadata": {
        "id": "gL-c5iyVxz5h"
      },
      "source": [
        "#device = torch.device(\"cuda:0\" if torch.cuda.is_available else \"cpu\")\n",
        "device = torch.device('cpu')"
      ],
      "execution_count": 3,
      "outputs": []
    },
    {
      "cell_type": "code",
      "metadata": {
        "id": "OmuCIqDiw8Of"
      },
      "source": [
        "num_epochs = 10 \n",
        "num_classes = 10 # 0 - 9\n",
        "learning_rate = 0.0005 \n",
        "input_size = 28 * 28 \n",
        "batch_size = 50\n",
        "hidden_sizes = [128, 64] # arbitrary choice "
      ],
      "execution_count": 4,
      "outputs": []
    },
    {
      "cell_type": "code",
      "metadata": {
        "id": "V77W0o8sw8Of"
      },
      "source": [
        "transform = transforms.Compose([transforms.ToTensor(),transforms.Normalize((0.5,), (0.5,)),])"
      ],
      "execution_count": 5,
      "outputs": []
    },
    {
      "cell_type": "code",
      "metadata": {
        "id": "GJEL2XtAw8Og",
        "colab": {
          "base_uri": "https://localhost:8080/",
          "height": 457,
          "referenced_widgets": [
            "1ed35842a8bf440bbf566222faa1dfcf",
            "8e5601a96cf94946becec14a3d5bdce2",
            "614e87f87d0b46ee8af8ee290c703d44",
            "07f1246f689045d99e5f034a22bd039b",
            "ae372a7f0d2944d28e2b647f26b1867b",
            "f7385355ddc54f348f90a7604db8b4d3",
            "53847a8329d643d7aba2cbd35146d116",
            "638647b63a1d49cfba1def0b0f0051d6",
            "1f201a4247ae4c1fbb151eced9971555",
            "9bd05dcfa0fe40248981c8129542a528",
            "8b9186aeb735494db4acfce1dca26b10",
            "6a8ee58bb31049099abc52d821abcc81",
            "8792989374e0419d9c1eb19bca0f673c",
            "a7f06f50d4ae43ff82272aa780c69b0a",
            "dbba80022c534640b736ebbbaed14213",
            "853d12999a55489cbe5d7c281e33facd",
            "e0d2838f3eeb45fa9d4dba015a11e96e",
            "dbd7e73f96df4ff59e1716bc4336b2f0",
            "8db308758878428ebb35053a57b392b3",
            "8fccc3e1000c44f1859557c046ade629",
            "4c10a2e4cef34c538ce92501787ab6cd",
            "6efe725c38564f45a9d4585ee15a67df",
            "390d183874d64990b0be98874c499231",
            "b304d0f3cc3b445f8f0d767e1aa90a39",
            "f1b8e6d54c9d41ed989b96007aa81f00",
            "e61f6c97172b4fca9682783d15f11619",
            "7aba86ade84846b2ad6d42f533f9ffc1",
            "08a02283eb2d49789d542e8bb58697cb",
            "0212feb03d35412ab17ceeb392df58f4",
            "b25bbeaacf6a498cbf53ebb21806db01",
            "e994f03ebce340fc960dd0723499f8e4",
            "41888802b32c48509531fa4bf4ab26fc",
            "dcaaa87a57e0431cac491fe5ec6843c9",
            "5ca987936c15434293570dda6b3c8e79",
            "aaab068b8d0c4f35afdba0d9365ef75d",
            "4d787790931d4106a5d97696bd252dce",
            "dbb3cd0a11524a93b1f129035b45bb5f",
            "248174ca5d6f4761acc63aac29c14a5c",
            "3f2415eb56ca40dcbf722e6115721539",
            "04c571168ab440c0a7462bc67f2e0bf0",
            "5bce08a980cb499e8be52a145281f676",
            "ba5c3291ed214c0e886cbf7964b04d2d",
            "d81fd8dcfb5341138c4291e590a54d1a",
            "f9910fc6c315420482e700c3a267bc49"
          ]
        },
        "outputId": "55b52423-d60e-41a7-d0a2-916cba284a62"
      },
      "source": [
        "train_data = datasets.MNIST('./', download=True, train=True, transform=transform)\n",
        "test_data = datasets.MNIST('./', download=True, train=False, transform=transform)\n",
        "\n",
        "train_loader = DataLoader(train_data, batch_size=batch_size, shuffle=True, num_workers=2)\n",
        "test_loader = DataLoader(test_data, batch_size=batch_size, shuffle=False , num_workers=2)"
      ],
      "execution_count": 6,
      "outputs": [
        {
          "output_type": "stream",
          "text": [
            "Downloading http://yann.lecun.com/exdb/mnist/train-images-idx3-ubyte.gz\n",
            "Downloading http://yann.lecun.com/exdb/mnist/train-images-idx3-ubyte.gz to ./MNIST/raw/train-images-idx3-ubyte.gz\n"
          ],
          "name": "stdout"
        },
        {
          "output_type": "display_data",
          "data": {
            "application/vnd.jupyter.widget-view+json": {
              "model_id": "1ed35842a8bf440bbf566222faa1dfcf",
              "version_minor": 0,
              "version_major": 2
            },
            "text/plain": [
              "  0%|          | 0/9912422 [00:00<?, ?it/s]"
            ]
          },
          "metadata": {}
        },
        {
          "output_type": "stream",
          "text": [
            "Extracting ./MNIST/raw/train-images-idx3-ubyte.gz to ./MNIST/raw\n",
            "\n",
            "Downloading http://yann.lecun.com/exdb/mnist/train-labels-idx1-ubyte.gz\n",
            "Downloading http://yann.lecun.com/exdb/mnist/train-labels-idx1-ubyte.gz to ./MNIST/raw/train-labels-idx1-ubyte.gz\n"
          ],
          "name": "stdout"
        },
        {
          "output_type": "display_data",
          "data": {
            "application/vnd.jupyter.widget-view+json": {
              "model_id": "6a8ee58bb31049099abc52d821abcc81",
              "version_minor": 0,
              "version_major": 2
            },
            "text/plain": [
              "  0%|          | 0/28881 [00:00<?, ?it/s]"
            ]
          },
          "metadata": {}
        },
        {
          "output_type": "stream",
          "text": [
            "Extracting ./MNIST/raw/train-labels-idx1-ubyte.gz to ./MNIST/raw\n",
            "\n",
            "Downloading http://yann.lecun.com/exdb/mnist/t10k-images-idx3-ubyte.gz\n",
            "Downloading http://yann.lecun.com/exdb/mnist/t10k-images-idx3-ubyte.gz to ./MNIST/raw/t10k-images-idx3-ubyte.gz\n"
          ],
          "name": "stdout"
        },
        {
          "output_type": "display_data",
          "data": {
            "application/vnd.jupyter.widget-view+json": {
              "model_id": "390d183874d64990b0be98874c499231",
              "version_minor": 0,
              "version_major": 2
            },
            "text/plain": [
              "  0%|          | 0/1648877 [00:00<?, ?it/s]"
            ]
          },
          "metadata": {}
        },
        {
          "output_type": "stream",
          "text": [
            "Extracting ./MNIST/raw/t10k-images-idx3-ubyte.gz to ./MNIST/raw\n",
            "\n",
            "Downloading http://yann.lecun.com/exdb/mnist/t10k-labels-idx1-ubyte.gz\n",
            "Downloading http://yann.lecun.com/exdb/mnist/t10k-labels-idx1-ubyte.gz to ./MNIST/raw/t10k-labels-idx1-ubyte.gz\n"
          ],
          "name": "stdout"
        },
        {
          "output_type": "display_data",
          "data": {
            "application/vnd.jupyter.widget-view+json": {
              "model_id": "5ca987936c15434293570dda6b3c8e79",
              "version_minor": 0,
              "version_major": 2
            },
            "text/plain": [
              "  0%|          | 0/4542 [00:00<?, ?it/s]"
            ]
          },
          "metadata": {}
        },
        {
          "output_type": "stream",
          "text": [
            "Extracting ./MNIST/raw/t10k-labels-idx1-ubyte.gz to ./MNIST/raw\n",
            "\n"
          ],
          "name": "stdout"
        },
        {
          "output_type": "stream",
          "text": [
            "/usr/local/lib/python3.7/dist-packages/torchvision/datasets/mnist.py:498: UserWarning: The given NumPy array is not writeable, and PyTorch does not support non-writeable tensors. This means you can write to the underlying (supposedly non-writeable) NumPy array using the tensor. You may want to copy the array to protect its data or make it writeable before converting it to a tensor. This type of warning will be suppressed for the rest of this program. (Triggered internally at  /pytorch/torch/csrc/utils/tensor_numpy.cpp:180.)\n",
            "  return torch.from_numpy(parsed.astype(m[2], copy=False)).view(*s)\n"
          ],
          "name": "stderr"
        }
      ]
    },
    {
      "cell_type": "code",
      "metadata": {
        "colab": {
          "base_uri": "https://localhost:8080/"
        },
        "id": "HMa4vJ2Aw8Oi",
        "outputId": "ca3ecb3a-5241-490f-8c0f-5be0abf6fa3c"
      },
      "source": [
        "checkdata = iter(train_loader)\n",
        "img, label = next(checkdata)\n",
        "print(img.shape, label.shape)"
      ],
      "execution_count": 7,
      "outputs": [
        {
          "output_type": "stream",
          "text": [
            "torch.Size([50, 1, 28, 28]) torch.Size([50])\n"
          ],
          "name": "stdout"
        }
      ]
    },
    {
      "cell_type": "code",
      "metadata": {
        "colab": {
          "base_uri": "https://localhost:8080/",
          "height": 413
        },
        "id": "Qk0uv2MKw8On",
        "outputId": "3edf6968-3a46-47fc-e47d-02976fc6b551"
      },
      "source": [
        "for i in range(1,10):\n",
        "    print(label[i].item())\n",
        "    plt.subplot(3, 3, i)\n",
        "    plt.imshow(img[i][0]) #, cmap = \"gray_r\")    \n",
        "plt.show()"
      ],
      "execution_count": 8,
      "outputs": [
        {
          "output_type": "stream",
          "text": [
            "1\n",
            "3\n",
            "0\n",
            "2\n",
            "0\n",
            "8\n",
            "0\n",
            "9\n",
            "3\n"
          ],
          "name": "stdout"
        },
        {
          "output_type": "display_data",
          "data": {
            "image/png": "[encoded data removed]",
            "text/plain": [
              "<Figure size 432x288 with 9 Axes>"
            ]
          },
          "metadata": {
            "needs_background": "light"
          }
        }
      ]
    },
    {
      "cell_type": "code",
      "metadata": {
        "colab": {
          "base_uri": "https://localhost:8080/",
          "height": 51
        },
        "id": "JCjBXfNvw8Os",
        "outputId": "b841cbd8-6ace-47c0-dec7-81178166a3e3"
      },
      "source": [
        "class DigitRecognizer(nn.Module):\n",
        "\n",
        "    def __init__(self, input_size, hidden_layers, num_classes):\n",
        "        super(DigitRecognizer, self).__init__()\n",
        "        self.input = nn.Linear(input_size, hidden_sizes[0])\n",
        "        self.relu_0 = nn.ReLU()\n",
        "        self.hidden1 = nn.Linear(hidden_sizes[0], hidden_sizes[1])\n",
        "        self.relu_1 = nn.ReLU()\n",
        "        self.output = nn.Linear(hidden_sizes[1], num_classes)\n",
        "        \n",
        "    def forward(self, X):\n",
        "        model = self.input(X)\n",
        "        model = self.relu_0(model)\n",
        "        model = self.hidden1(model)\n",
        "        model = self.relu_1(model)\n",
        "        model = self.output(model)\n",
        "        return model \n",
        "\n",
        "model = DigitRecognizer(input_size, hidden_sizes, num_classes)      \n",
        "repr(model)"
      ],
      "execution_count": 9,
      "outputs": [
        {
          "output_type": "execute_result",
          "data": {
            "application/vnd.google.colaboratory.intrinsic+json": {
              "type": "string"
            },
            "text/plain": [
              "'DigitRecognizer(\\n  (input): Linear(in_features=784, out_features=128, bias=True)\\n  (relu_0): ReLU()\\n  (hidden1): Linear(in_features=128, out_features=64, bias=True)\\n  (relu_1): ReLU()\\n  (output): Linear(in_features=64, out_features=10, bias=True)\\n)'"
            ]
          },
          "metadata": {},
          "execution_count": 9
        }
      ]
    },
    {
      "cell_type": "code",
      "metadata": {
        "id": "zUWXgGPkw8Ov"
      },
      "source": [
        "criterion = nn.CrossEntropyLoss()\n",
        "optimizer = torch.optim.Adam(model.parameters(), lr = learning_rate)"
      ],
      "execution_count": 10,
      "outputs": []
    },
    {
      "cell_type": "code",
      "metadata": {
        "colab": {
          "base_uri": "https://localhost:8080/"
        },
        "id": "kqqVjWV0w8Ow",
        "outputId": "beaf4681-9782-4a0a-bae7-1f0cd136a156"
      },
      "source": [
        "samples = len(train_loader)\n",
        "samples # seeing size of training samples"
      ],
      "execution_count": 11,
      "outputs": [
        {
          "output_type": "execute_result",
          "data": {
            "text/plain": [
              "1200"
            ]
          },
          "metadata": {},
          "execution_count": 11
        }
      ]
    },
    {
      "cell_type": "code",
      "metadata": {
        "id": "K_o1yhPI5C30"
      },
      "source": [
        "model = model.to(device) # putting the model in the GPU"
      ],
      "execution_count": 12,
      "outputs": []
    },
    {
      "cell_type": "code",
      "metadata": {
        "colab": {
          "base_uri": "https://localhost:8080/"
        },
        "id": "qUDG5eWbw8Ox",
        "outputId": "821b197b-c8fe-4da2-c09f-f8008f94662e"
      },
      "source": [
        "for epoch in range(1, num_epochs + 1):\n",
        "    for step, (images, labels) in enumerate(train_loader, start = 1): # batch training loop \n",
        "        images = images.reshape(-1, 784).to(device) # flattening image to # of input nodes\n",
        "\n",
        "        # passing data to be computed in the GPU \n",
        "        images = images.to(device)\n",
        "        labels = labels.to(device)\n",
        "        \n",
        "        outputs = model(images)\n",
        "\n",
        "        loss = criterion(outputs, labels)\n",
        "        optimizer.zero_grad()\n",
        "        loss.backward()\n",
        "        optimizer.step()\n",
        "\n",
        "        if step % 100 == 0:\n",
        "          print(\"Epoch: {}/{}, step {}/ {}, loss: {:4f}\".format(epoch, num_epochs, step, samples, loss.item()))"
      ],
      "execution_count": 13,
      "outputs": [
        {
          "output_type": "stream",
          "text": [
            "Epoch: 1/10, step 100/ 1200, loss: 0.678255\n",
            "Epoch: 1/10, step 200/ 1200, loss: 0.462340\n",
            "Epoch: 1/10, step 300/ 1200, loss: 0.362384\n",
            "Epoch: 1/10, step 400/ 1200, loss: 0.280173\n",
            "Epoch: 1/10, step 500/ 1200, loss: 0.391171\n",
            "Epoch: 1/10, step 600/ 1200, loss: 0.623030\n",
            "Epoch: 1/10, step 700/ 1200, loss: 0.282019\n",
            "Epoch: 1/10, step 800/ 1200, loss: 0.385864\n",
            "Epoch: 1/10, step 900/ 1200, loss: 0.194030\n",
            "Epoch: 1/10, step 1000/ 1200, loss: 0.371241\n",
            "Epoch: 1/10, step 1100/ 1200, loss: 0.138398\n",
            "Epoch: 1/10, step 1200/ 1200, loss: 0.277524\n",
            "Epoch: 2/10, step 100/ 1200, loss: 0.195697\n",
            "Epoch: 2/10, step 200/ 1200, loss: 0.499026\n",
            "Epoch: 2/10, step 300/ 1200, loss: 0.189545\n",
            "Epoch: 2/10, step 400/ 1200, loss: 0.149291\n",
            "Epoch: 2/10, step 500/ 1200, loss: 0.126879\n",
            "Epoch: 2/10, step 600/ 1200, loss: 0.423920\n",
            "Epoch: 2/10, step 700/ 1200, loss: 0.225547\n",
            "Epoch: 2/10, step 800/ 1200, loss: 0.263204\n",
            "Epoch: 2/10, step 900/ 1200, loss: 0.273772\n",
            "Epoch: 2/10, step 1000/ 1200, loss: 0.229543\n",
            "Epoch: 2/10, step 1100/ 1200, loss: 0.128090\n",
            "Epoch: 2/10, step 1200/ 1200, loss: 0.146749\n",
            "Epoch: 3/10, step 100/ 1200, loss: 0.128868\n",
            "Epoch: 3/10, step 200/ 1200, loss: 0.149318\n",
            "Epoch: 3/10, step 300/ 1200, loss: 0.048361\n",
            "Epoch: 3/10, step 400/ 1200, loss: 0.146956\n",
            "Epoch: 3/10, step 500/ 1200, loss: 0.107832\n",
            "Epoch: 3/10, step 600/ 1200, loss: 0.221832\n",
            "Epoch: 3/10, step 700/ 1200, loss: 0.192860\n",
            "Epoch: 3/10, step 800/ 1200, loss: 0.172471\n",
            "Epoch: 3/10, step 900/ 1200, loss: 0.243120\n",
            "Epoch: 3/10, step 1000/ 1200, loss: 0.229254\n",
            "Epoch: 3/10, step 1100/ 1200, loss: 0.249871\n",
            "Epoch: 3/10, step 1200/ 1200, loss: 0.229187\n",
            "Epoch: 4/10, step 100/ 1200, loss: 0.158981\n",
            "Epoch: 4/10, step 200/ 1200, loss: 0.224235\n",
            "Epoch: 4/10, step 300/ 1200, loss: 0.248451\n",
            "Epoch: 4/10, step 400/ 1200, loss: 0.255881\n",
            "Epoch: 4/10, step 500/ 1200, loss: 0.172237\n",
            "Epoch: 4/10, step 600/ 1200, loss: 0.092157\n",
            "Epoch: 4/10, step 700/ 1200, loss: 0.123244\n",
            "Epoch: 4/10, step 800/ 1200, loss: 0.073880\n",
            "Epoch: 4/10, step 900/ 1200, loss: 0.142191\n",
            "Epoch: 4/10, step 1000/ 1200, loss: 0.077582\n",
            "Epoch: 4/10, step 1100/ 1200, loss: 0.049773\n",
            "Epoch: 4/10, step 1200/ 1200, loss: 0.056823\n",
            "Epoch: 5/10, step 100/ 1200, loss: 0.152501\n",
            "Epoch: 5/10, step 200/ 1200, loss: 0.022396\n",
            "Epoch: 5/10, step 300/ 1200, loss: 0.060033\n",
            "Epoch: 5/10, step 400/ 1200, loss: 0.053624\n",
            "Epoch: 5/10, step 500/ 1200, loss: 0.083825\n",
            "Epoch: 5/10, step 600/ 1200, loss: 0.206226\n",
            "Epoch: 5/10, step 700/ 1200, loss: 0.020457\n",
            "Epoch: 5/10, step 800/ 1200, loss: 0.080184\n",
            "Epoch: 5/10, step 900/ 1200, loss: 0.140489\n",
            "Epoch: 5/10, step 1000/ 1200, loss: 0.022232\n",
            "Epoch: 5/10, step 1100/ 1200, loss: 0.019574\n",
            "Epoch: 5/10, step 1200/ 1200, loss: 0.122746\n",
            "Epoch: 6/10, step 100/ 1200, loss: 0.093578\n",
            "Epoch: 6/10, step 200/ 1200, loss: 0.033850\n",
            "Epoch: 6/10, step 300/ 1200, loss: 0.164273\n",
            "Epoch: 6/10, step 400/ 1200, loss: 0.020673\n",
            "Epoch: 6/10, step 500/ 1200, loss: 0.041722\n",
            "Epoch: 6/10, step 600/ 1200, loss: 0.049812\n",
            "Epoch: 6/10, step 700/ 1200, loss: 0.033579\n",
            "Epoch: 6/10, step 800/ 1200, loss: 0.077666\n",
            "Epoch: 6/10, step 900/ 1200, loss: 0.097594\n",
            "Epoch: 6/10, step 1000/ 1200, loss: 0.051533\n",
            "Epoch: 6/10, step 1100/ 1200, loss: 0.069227\n",
            "Epoch: 6/10, step 1200/ 1200, loss: 0.020088\n",
            "Epoch: 7/10, step 100/ 1200, loss: 0.058522\n",
            "Epoch: 7/10, step 200/ 1200, loss: 0.038616\n",
            "Epoch: 7/10, step 300/ 1200, loss: 0.108321\n",
            "Epoch: 7/10, step 400/ 1200, loss: 0.248883\n",
            "Epoch: 7/10, step 500/ 1200, loss: 0.172623\n",
            "Epoch: 7/10, step 600/ 1200, loss: 0.086594\n",
            "Epoch: 7/10, step 700/ 1200, loss: 0.020941\n",
            "Epoch: 7/10, step 800/ 1200, loss: 0.055197\n",
            "Epoch: 7/10, step 900/ 1200, loss: 0.146133\n",
            "Epoch: 7/10, step 1000/ 1200, loss: 0.171581\n",
            "Epoch: 7/10, step 1100/ 1200, loss: 0.023251\n",
            "Epoch: 7/10, step 1200/ 1200, loss: 0.078201\n",
            "Epoch: 8/10, step 100/ 1200, loss: 0.054605\n",
            "Epoch: 8/10, step 200/ 1200, loss: 0.060487\n",
            "Epoch: 8/10, step 300/ 1200, loss: 0.036382\n",
            "Epoch: 8/10, step 400/ 1200, loss: 0.183766\n",
            "Epoch: 8/10, step 500/ 1200, loss: 0.047493\n",
            "Epoch: 8/10, step 600/ 1200, loss: 0.026882\n",
            "Epoch: 8/10, step 700/ 1200, loss: 0.044839\n",
            "Epoch: 8/10, step 800/ 1200, loss: 0.032029\n",
            "Epoch: 8/10, step 900/ 1200, loss: 0.046517\n",
            "Epoch: 8/10, step 1000/ 1200, loss: 0.017393\n",
            "Epoch: 8/10, step 1100/ 1200, loss: 0.072792\n",
            "Epoch: 8/10, step 1200/ 1200, loss: 0.059808\n",
            "Epoch: 9/10, step 100/ 1200, loss: 0.027577\n",
            "Epoch: 9/10, step 200/ 1200, loss: 0.089411\n",
            "Epoch: 9/10, step 300/ 1200, loss: 0.020317\n",
            "Epoch: 9/10, step 400/ 1200, loss: 0.112962\n",
            "Epoch: 9/10, step 500/ 1200, loss: 0.020878\n",
            "Epoch: 9/10, step 600/ 1200, loss: 0.074955\n",
            "Epoch: 9/10, step 700/ 1200, loss: 0.020338\n",
            "Epoch: 9/10, step 800/ 1200, loss: 0.050807\n",
            "Epoch: 9/10, step 900/ 1200, loss: 0.020248\n",
            "Epoch: 9/10, step 1000/ 1200, loss: 0.024177\n",
            "Epoch: 9/10, step 1100/ 1200, loss: 0.030245\n",
            "Epoch: 9/10, step 1200/ 1200, loss: 0.015461\n",
            "Epoch: 10/10, step 100/ 1200, loss: 0.125528\n",
            "Epoch: 10/10, step 200/ 1200, loss: 0.025385\n",
            "Epoch: 10/10, step 300/ 1200, loss: 0.120627\n",
            "Epoch: 10/10, step 400/ 1200, loss: 0.062747\n",
            "Epoch: 10/10, step 500/ 1200, loss: 0.091510\n",
            "Epoch: 10/10, step 600/ 1200, loss: 0.034299\n",
            "Epoch: 10/10, step 700/ 1200, loss: 0.005805\n",
            "Epoch: 10/10, step 800/ 1200, loss: 0.052495\n",
            "Epoch: 10/10, step 900/ 1200, loss: 0.141939\n",
            "Epoch: 10/10, step 1000/ 1200, loss: 0.036949\n",
            "Epoch: 10/10, step 1100/ 1200, loss: 0.084283\n",
            "Epoch: 10/10, step 1200/ 1200, loss: 0.023368\n"
          ],
          "name": "stdout"
        }
      ]
    },
    {
      "cell_type": "code",
      "metadata": {
        "colab": {
          "base_uri": "https://localhost:8080/"
        },
        "id": "JF2wxlCtEjou",
        "outputId": "1431f363-ab82-4821-bb31-3c06098c1c2b"
      },
      "source": [
        "# Assessing accuracy of model\n",
        "#model.eval()\n",
        "\n",
        "correct = 0\n",
        "for (images, labels) in test_loader: # batch training loop \n",
        "    images = images.reshape(-1, 784).to(device) # flattening image to # of input nodes\n",
        "\n",
        "    # passing data to be computed in the GPU \n",
        "    images = images.to(device) # 64 images\n",
        "    labels = labels.to(device) # 64 true values\n",
        "    \n",
        "    outputs = model(images) \n",
        "\n",
        "    _, test_predicted = torch.max(outputs.data,1)\n",
        "\n",
        "\n",
        "    correct += torch.eq(labels, test_predicted).sum()\n",
        "\n",
        "accuracy = (correct/len(test_data)).item() * 100 \n",
        "print(\"Model has {:.2f} % accuracy\".format(accuracy))\n"
      ],
      "execution_count": 14,
      "outputs": [
        {
          "output_type": "stream",
          "text": [
            "Model has 97.55 % accuracy\n"
          ],
          "name": "stdout"
        }
      ]
    },
    {
      "cell_type": "code",
      "metadata": {
        "id": "zKVVUUGTnnzb"
      },
      "source": [
        "torch.save(model, './my_mnist_model.pt') "
      ],
      "execution_count": 16,
      "outputs": []
    }
  ]
}