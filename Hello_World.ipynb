{
  "nbformat": 4,
  "nbformat_minor": 0,
  "metadata": {
    "kernelspec": {
      "display_name": "Python 3",
      "language": "python",
      "name": "python3"
    },
    "language_info": {
      "codemirror_mode": {
        "name": "ipython",
        "version": 3
      },
      "file_extension": ".py",
      "mimetype": "text/x-python",
      "name": "python",
      "nbconvert_exporter": "python",
      "pygments_lexer": "ipython3",
      "version": "3.8.5"
    },
    "colab": {
      "name": "Hello_World (1).ipynb",
      "provenance": [],
      "collapsed_sections": []
    },
    "accelerator": "GPU",
    "widgets": {
      "application/vnd.jupyter.widget-state+json": {
        "6d16881879434b28a54ec98b6f178207": {
          "model_module": "@jupyter-widgets/controls",
          "model_name": "HBoxModel",
          "model_module_version": "1.5.0",
          "state": {
            "_view_name": "HBoxView",
            "_dom_classes": [],
            "_model_name": "HBoxModel",
            "_view_module": "@jupyter-widgets/controls",
            "_model_module_version": "1.5.0",
            "_view_count": null,
            "_view_module_version": "1.5.0",
            "box_style": "",
            "layout": "IPY_MODEL_498ac2d67a41488a975fe2b76fa22bd5",
            "_model_module": "@jupyter-widgets/controls",
            "children": [
              "IPY_MODEL_f4200721ac78400db513c1678a9266bc",
              "IPY_MODEL_55a7a2cb585e424695874528cdf7e30d",
              "IPY_MODEL_72f0291c85484bdfa3a56d041d487857"
            ]
          }
        },
        "498ac2d67a41488a975fe2b76fa22bd5": {
          "model_module": "@jupyter-widgets/base",
          "model_name": "LayoutModel",
          "model_module_version": "1.2.0",
          "state": {
            "_view_name": "LayoutView",
            "grid_template_rows": null,
            "right": null,
            "justify_content": null,
            "_view_module": "@jupyter-widgets/base",
            "overflow": null,
            "_model_module_version": "1.2.0",
            "_view_count": null,
            "flex_flow": null,
            "width": null,
            "min_width": null,
            "border": null,
            "align_items": null,
            "bottom": null,
            "_model_module": "@jupyter-widgets/base",
            "top": null,
            "grid_column": null,
            "overflow_y": null,
            "overflow_x": null,
            "grid_auto_flow": null,
            "grid_area": null,
            "grid_template_columns": null,
            "flex": null,
            "_model_name": "LayoutModel",
            "justify_items": null,
            "grid_row": null,
            "max_height": null,
            "align_content": null,
            "visibility": null,
            "align_self": null,
            "height": null,
            "min_height": null,
            "padding": null,
            "grid_auto_rows": null,
            "grid_gap": null,
            "max_width": null,
            "order": null,
            "_view_module_version": "1.2.0",
            "grid_template_areas": null,
            "object_position": null,
            "object_fit": null,
            "grid_auto_columns": null,
            "margin": null,
            "display": null,
            "left": null
          }
        },
        "f4200721ac78400db513c1678a9266bc": {
          "model_module": "@jupyter-widgets/controls",
          "model_name": "HTMLModel",
          "model_module_version": "1.5.0",
          "state": {
            "_view_name": "HTMLView",
            "style": "IPY_MODEL_0b58fa478ec04942922bfcf5ffbffa5a",
            "_dom_classes": [],
            "description": "",
            "_model_name": "HTMLModel",
            "placeholder": "​",
            "_view_module": "@jupyter-widgets/controls",
            "_model_module_version": "1.5.0",
            "value": "",
            "_view_count": null,
            "_view_module_version": "1.5.0",
            "description_tooltip": null,
            "_model_module": "@jupyter-widgets/controls",
            "layout": "IPY_MODEL_615b8d3e45ef45c59a23a11767c6c9b0"
          }
        },
        "55a7a2cb585e424695874528cdf7e30d": {
          "model_module": "@jupyter-widgets/controls",
          "model_name": "FloatProgressModel",
          "model_module_version": "1.5.0",
          "state": {
            "_view_name": "ProgressView",
            "style": "IPY_MODEL_f8da25c86f4f4d058057f2b03deeaae4",
            "_dom_classes": [],
            "description": "",
            "_model_name": "FloatProgressModel",
            "bar_style": "success",
            "max": 9912422,
            "_view_module": "@jupyter-widgets/controls",
            "_model_module_version": "1.5.0",
            "value": 9912422,
            "_view_count": null,
            "_view_module_version": "1.5.0",
            "orientation": "horizontal",
            "min": 0,
            "description_tooltip": null,
            "_model_module": "@jupyter-widgets/controls",
            "layout": "IPY_MODEL_b9423ad6d3e948bea9aef0957020aa03"
          }
        },
        "72f0291c85484bdfa3a56d041d487857": {
          "model_module": "@jupyter-widgets/controls",
          "model_name": "HTMLModel",
          "model_module_version": "1.5.0",
          "state": {
            "_view_name": "HTMLView",
            "style": "IPY_MODEL_5d5c9cd36f194086b7a41d5bf190402f",
            "_dom_classes": [],
            "description": "",
            "_model_name": "HTMLModel",
            "placeholder": "​",
            "_view_module": "@jupyter-widgets/controls",
            "_model_module_version": "1.5.0",
            "value": " 9913344/? [00:00&lt;00:00, 52446046.38it/s]",
            "_view_count": null,
            "_view_module_version": "1.5.0",
            "description_tooltip": null,
            "_model_module": "@jupyter-widgets/controls",
            "layout": "IPY_MODEL_e3e2c536145546e6a5e07b8c39537092"
          }
        },
        "0b58fa478ec04942922bfcf5ffbffa5a": {
          "model_module": "@jupyter-widgets/controls",
          "model_name": "DescriptionStyleModel",
          "model_module_version": "1.5.0",
          "state": {
            "_view_name": "StyleView",
            "_model_name": "DescriptionStyleModel",
            "description_width": "",
            "_view_module": "@jupyter-widgets/base",
            "_model_module_version": "1.5.0",
            "_view_count": null,
            "_view_module_version": "1.2.0",
            "_model_module": "@jupyter-widgets/controls"
          }
        },
        "615b8d3e45ef45c59a23a11767c6c9b0": {
          "model_module": "@jupyter-widgets/base",
          "model_name": "LayoutModel",
          "model_module_version": "1.2.0",
          "state": {
            "_view_name": "LayoutView",
            "grid_template_rows": null,
            "right": null,
            "justify_content": null,
            "_view_module": "@jupyter-widgets/base",
            "overflow": null,
            "_model_module_version": "1.2.0",
            "_view_count": null,
            "flex_flow": null,
            "width": null,
            "min_width": null,
            "border": null,
            "align_items": null,
            "bottom": null,
            "_model_module": "@jupyter-widgets/base",
            "top": null,
            "grid_column": null,
            "overflow_y": null,
            "overflow_x": null,
            "grid_auto_flow": null,
            "grid_area": null,
            "grid_template_columns": null,
            "flex": null,
            "_model_name": "LayoutModel",
            "justify_items": null,
            "grid_row": null,
            "max_height": null,
            "align_content": null,
            "visibility": null,
            "align_self": null,
            "height": null,
            "min_height": null,
            "padding": null,
            "grid_auto_rows": null,
            "grid_gap": null,
            "max_width": null,
            "order": null,
            "_view_module_version": "1.2.0",
            "grid_template_areas": null,
            "object_position": null,
            "object_fit": null,
            "grid_auto_columns": null,
            "margin": null,
            "display": null,
            "left": null
          }
        },
        "f8da25c86f4f4d058057f2b03deeaae4": {
          "model_module": "@jupyter-widgets/controls",
          "model_name": "ProgressStyleModel",
          "model_module_version": "1.5.0",
          "state": {
            "_view_name": "StyleView",
            "_model_name": "ProgressStyleModel",
            "description_width": "",
            "_view_module": "@jupyter-widgets/base",
            "_model_module_version": "1.5.0",
            "_view_count": null,
            "_view_module_version": "1.2.0",
            "bar_color": null,
            "_model_module": "@jupyter-widgets/controls"
          }
        },
        "b9423ad6d3e948bea9aef0957020aa03": {
          "model_module": "@jupyter-widgets/base",
          "model_name": "LayoutModel",
          "model_module_version": "1.2.0",
          "state": {
            "_view_name": "LayoutView",
            "grid_template_rows": null,
            "right": null,
            "justify_content": null,
            "_view_module": "@jupyter-widgets/base",
            "overflow": null,
            "_model_module_version": "1.2.0",
            "_view_count": null,
            "flex_flow": null,
            "width": null,
            "min_width": null,
            "border": null,
            "align_items": null,
            "bottom": null,
            "_model_module": "@jupyter-widgets/base",
            "top": null,
            "grid_column": null,
            "overflow_y": null,
            "overflow_x": null,
            "grid_auto_flow": null,
            "grid_area": null,
            "grid_template_columns": null,
            "flex": null,
            "_model_name": "LayoutModel",
            "justify_items": null,
            "grid_row": null,
            "max_height": null,
            "align_content": null,
            "visibility": null,
            "align_self": null,
            "height": null,
            "min_height": null,
            "padding": null,
            "grid_auto_rows": null,
            "grid_gap": null,
            "max_width": null,
            "order": null,
            "_view_module_version": "1.2.0",
            "grid_template_areas": null,
            "object_position": null,
            "object_fit": null,
            "grid_auto_columns": null,
            "margin": null,
            "display": null,
            "left": null
          }
        },
        "5d5c9cd36f194086b7a41d5bf190402f": {
          "model_module": "@jupyter-widgets/controls",
          "model_name": "DescriptionStyleModel",
          "model_module_version": "1.5.0",
          "state": {
            "_view_name": "StyleView",
            "_model_name": "DescriptionStyleModel",
            "description_width": "",
            "_view_module": "@jupyter-widgets/base",
            "_model_module_version": "1.5.0",
            "_view_count": null,
            "_view_module_version": "1.2.0",
            "_model_module": "@jupyter-widgets/controls"
          }
        },
        "e3e2c536145546e6a5e07b8c39537092": {
          "model_module": "@jupyter-widgets/base",
          "model_name": "LayoutModel",
          "model_module_version": "1.2.0",
          "state": {
            "_view_name": "LayoutView",
            "grid_template_rows": null,
            "right": null,
            "justify_content": null,
            "_view_module": "@jupyter-widgets/base",
            "overflow": null,
            "_model_module_version": "1.2.0",
            "_view_count": null,
            "flex_flow": null,
            "width": null,
            "min_width": null,
            "border": null,
            "align_items": null,
            "bottom": null,
            "_model_module": "@jupyter-widgets/base",
            "top": null,
            "grid_column": null,
            "overflow_y": null,
            "overflow_x": null,
            "grid_auto_flow": null,
            "grid_area": null,
            "grid_template_columns": null,
            "flex": null,
            "_model_name": "LayoutModel",
            "justify_items": null,
            "grid_row": null,
            "max_height": null,
            "align_content": null,
            "visibility": null,
            "align_self": null,
            "height": null,
            "min_height": null,
            "padding": null,
            "grid_auto_rows": null,
            "grid_gap": null,
            "max_width": null,
            "order": null,
            "_view_module_version": "1.2.0",
            "grid_template_areas": null,
            "object_position": null,
            "object_fit": null,
            "grid_auto_columns": null,
            "margin": null,
            "display": null,
            "left": null
          }
        },
        "b6879f1002344070893b93988437494a": {
          "model_module": "@jupyter-widgets/controls",
          "model_name": "HBoxModel",
          "model_module_version": "1.5.0",
          "state": {
            "_view_name": "HBoxView",
            "_dom_classes": [],
            "_model_name": "HBoxModel",
            "_view_module": "@jupyter-widgets/controls",
            "_model_module_version": "1.5.0",
            "_view_count": null,
            "_view_module_version": "1.5.0",
            "box_style": "",
            "layout": "IPY_MODEL_7c92f849335d43d09eac5cf2d2fb8d7a",
            "_model_module": "@jupyter-widgets/controls",
            "children": [
              "IPY_MODEL_dcca14c44654419fb60a74c04d8fd66d",
              "IPY_MODEL_2a27f4358b7246809ea9f908516fd10e",
              "IPY_MODEL_42ec74f82ea24a639582ed548e862d02"
            ]
          }
        },
        "7c92f849335d43d09eac5cf2d2fb8d7a": {
          "model_module": "@jupyter-widgets/base",
          "model_name": "LayoutModel",
          "model_module_version": "1.2.0",
          "state": {
            "_view_name": "LayoutView",
            "grid_template_rows": null,
            "right": null,
            "justify_content": null,
            "_view_module": "@jupyter-widgets/base",
            "overflow": null,
            "_model_module_version": "1.2.0",
            "_view_count": null,
            "flex_flow": null,
            "width": null,
            "min_width": null,
            "border": null,
            "align_items": null,
            "bottom": null,
            "_model_module": "@jupyter-widgets/base",
            "top": null,
            "grid_column": null,
            "overflow_y": null,
            "overflow_x": null,
            "grid_auto_flow": null,
            "grid_area": null,
            "grid_template_columns": null,
            "flex": null,
            "_model_name": "LayoutModel",
            "justify_items": null,
            "grid_row": null,
            "max_height": null,
            "align_content": null,
            "visibility": null,
            "align_self": null,
            "height": null,
            "min_height": null,
            "padding": null,
            "grid_auto_rows": null,
            "grid_gap": null,
            "max_width": null,
            "order": null,
            "_view_module_version": "1.2.0",
            "grid_template_areas": null,
            "object_position": null,
            "object_fit": null,
            "grid_auto_columns": null,
            "margin": null,
            "display": null,
            "left": null
          }
        },
        "dcca14c44654419fb60a74c04d8fd66d": {
          "model_module": "@jupyter-widgets/controls",
          "model_name": "HTMLModel",
          "model_module_version": "1.5.0",
          "state": {
            "_view_name": "HTMLView",
            "style": "IPY_MODEL_aebddd2d0edf4dfe8b347953b2dc7ab8",
            "_dom_classes": [],
            "description": "",
            "_model_name": "HTMLModel",
            "placeholder": "​",
            "_view_module": "@jupyter-widgets/controls",
            "_model_module_version": "1.5.0",
            "value": "",
            "_view_count": null,
            "_view_module_version": "1.5.0",
            "description_tooltip": null,
            "_model_module": "@jupyter-widgets/controls",
            "layout": "IPY_MODEL_d37f7721fb7a4ae399b2435b29b56412"
          }
        },
        "2a27f4358b7246809ea9f908516fd10e": {
          "model_module": "@jupyter-widgets/controls",
          "model_name": "FloatProgressModel",
          "model_module_version": "1.5.0",
          "state": {
            "_view_name": "ProgressView",
            "style": "IPY_MODEL_351ecf623d6b4658bb8adefb8e84a8e0",
            "_dom_classes": [],
            "description": "",
            "_model_name": "FloatProgressModel",
            "bar_style": "success",
            "max": 28881,
            "_view_module": "@jupyter-widgets/controls",
            "_model_module_version": "1.5.0",
            "value": 28881,
            "_view_count": null,
            "_view_module_version": "1.5.0",
            "orientation": "horizontal",
            "min": 0,
            "description_tooltip": null,
            "_model_module": "@jupyter-widgets/controls",
            "layout": "IPY_MODEL_6eb168d6da8542288923299b3572eda8"
          }
        },
        "42ec74f82ea24a639582ed548e862d02": {
          "model_module": "@jupyter-widgets/controls",
          "model_name": "HTMLModel",
          "model_module_version": "1.5.0",
          "state": {
            "_view_name": "HTMLView",
            "style": "IPY_MODEL_b7b6d9b994ed4852abdfcfcfe5ff19a9",
            "_dom_classes": [],
            "description": "",
            "_model_name": "HTMLModel",
            "placeholder": "​",
            "_view_module": "@jupyter-widgets/controls",
            "_model_module_version": "1.5.0",
            "value": " 29696/? [00:00&lt;00:00, 628844.90it/s]",
            "_view_count": null,
            "_view_module_version": "1.5.0",
            "description_tooltip": null,
            "_model_module": "@jupyter-widgets/controls",
            "layout": "IPY_MODEL_bc003fd085e54d3f96128baf339388b1"
          }
        },
        "aebddd2d0edf4dfe8b347953b2dc7ab8": {
          "model_module": "@jupyter-widgets/controls",
          "model_name": "DescriptionStyleModel",
          "model_module_version": "1.5.0",
          "state": {
            "_view_name": "StyleView",
            "_model_name": "DescriptionStyleModel",
            "description_width": "",
            "_view_module": "@jupyter-widgets/base",
            "_model_module_version": "1.5.0",
            "_view_count": null,
            "_view_module_version": "1.2.0",
            "_model_module": "@jupyter-widgets/controls"
          }
        },
        "d37f7721fb7a4ae399b2435b29b56412": {
          "model_module": "@jupyter-widgets/base",
          "model_name": "LayoutModel",
          "model_module_version": "1.2.0",
          "state": {
            "_view_name": "LayoutView",
            "grid_template_rows": null,
            "right": null,
            "justify_content": null,
            "_view_module": "@jupyter-widgets/base",
            "overflow": null,
            "_model_module_version": "1.2.0",
            "_view_count": null,
            "flex_flow": null,
            "width": null,
            "min_width": null,
            "border": null,
            "align_items": null,
            "bottom": null,
            "_model_module": "@jupyter-widgets/base",
            "top": null,
            "grid_column": null,
            "overflow_y": null,
            "overflow_x": null,
            "grid_auto_flow": null,
            "grid_area": null,
            "grid_template_columns": null,
            "flex": null,
            "_model_name": "LayoutModel",
            "justify_items": null,
            "grid_row": null,
            "max_height": null,
            "align_content": null,
            "visibility": null,
            "align_self": null,
            "height": null,
            "min_height": null,
            "padding": null,
            "grid_auto_rows": null,
            "grid_gap": null,
            "max_width": null,
            "order": null,
            "_view_module_version": "1.2.0",
            "grid_template_areas": null,
            "object_position": null,
            "object_fit": null,
            "grid_auto_columns": null,
            "margin": null,
            "display": null,
            "left": null
          }
        },
        "351ecf623d6b4658bb8adefb8e84a8e0": {
          "model_module": "@jupyter-widgets/controls",
          "model_name": "ProgressStyleModel",
          "model_module_version": "1.5.0",
          "state": {
            "_view_name": "StyleView",
            "_model_name": "ProgressStyleModel",
            "description_width": "",
            "_view_module": "@jupyter-widgets/base",
            "_model_module_version": "1.5.0",
            "_view_count": null,
            "_view_module_version": "1.2.0",
            "bar_color": null,
            "_model_module": "@jupyter-widgets/controls"
          }
        },
        "6eb168d6da8542288923299b3572eda8": {
          "model_module": "@jupyter-widgets/base",
          "model_name": "LayoutModel",
          "model_module_version": "1.2.0",
          "state": {
            "_view_name": "LayoutView",
            "grid_template_rows": null,
            "right": null,
            "justify_content": null,
            "_view_module": "@jupyter-widgets/base",
            "overflow": null,
            "_model_module_version": "1.2.0",
            "_view_count": null,
            "flex_flow": null,
            "width": null,
            "min_width": null,
            "border": null,
            "align_items": null,
            "bottom": null,
            "_model_module": "@jupyter-widgets/base",
            "top": null,
            "grid_column": null,
            "overflow_y": null,
            "overflow_x": null,
            "grid_auto_flow": null,
            "grid_area": null,
            "grid_template_columns": null,
            "flex": null,
            "_model_name": "LayoutModel",
            "justify_items": null,
            "grid_row": null,
            "max_height": null,
            "align_content": null,
            "visibility": null,
            "align_self": null,
            "height": null,
            "min_height": null,
            "padding": null,
            "grid_auto_rows": null,
            "grid_gap": null,
            "max_width": null,
            "order": null,
            "_view_module_version": "1.2.0",
            "grid_template_areas": null,
            "object_position": null,
            "object_fit": null,
            "grid_auto_columns": null,
            "margin": null,
            "display": null,
            "left": null
          }
        },
        "b7b6d9b994ed4852abdfcfcfe5ff19a9": {
          "model_module": "@jupyter-widgets/controls",
          "model_name": "DescriptionStyleModel",
          "model_module_version": "1.5.0",
          "state": {
            "_view_name": "StyleView",
            "_model_name": "DescriptionStyleModel",
            "description_width": "",
            "_view_module": "@jupyter-widgets/base",
            "_model_module_version": "1.5.0",
            "_view_count": null,
            "_view_module_version": "1.2.0",
            "_model_module": "@jupyter-widgets/controls"
          }
        },
        "bc003fd085e54d3f96128baf339388b1": {
          "model_module": "@jupyter-widgets/base",
          "model_name": "LayoutModel",
          "model_module_version": "1.2.0",
          "state": {
            "_view_name": "LayoutView",
            "grid_template_rows": null,
            "right": null,
            "justify_content": null,
            "_view_module": "@jupyter-widgets/base",
            "overflow": null,
            "_model_module_version": "1.2.0",
            "_view_count": null,
            "flex_flow": null,
            "width": null,
            "min_width": null,
            "border": null,
            "align_items": null,
            "bottom": null,
            "_model_module": "@jupyter-widgets/base",
            "top": null,
            "grid_column": null,
            "overflow_y": null,
            "overflow_x": null,
            "grid_auto_flow": null,
            "grid_area": null,
            "grid_template_columns": null,
            "flex": null,
            "_model_name": "LayoutModel",
            "justify_items": null,
            "grid_row": null,
            "max_height": null,
            "align_content": null,
            "visibility": null,
            "align_self": null,
            "height": null,
            "min_height": null,
            "padding": null,
            "grid_auto_rows": null,
            "grid_gap": null,
            "max_width": null,
            "order": null,
            "_view_module_version": "1.2.0",
            "grid_template_areas": null,
            "object_position": null,
            "object_fit": null,
            "grid_auto_columns": null,
            "margin": null,
            "display": null,
            "left": null
          }
        },
        "b749629c8cf14f2096d22be7ee495343": {
          "model_module": "@jupyter-widgets/controls",
          "model_name": "HBoxModel",
          "model_module_version": "1.5.0",
          "state": {
            "_view_name": "HBoxView",
            "_dom_classes": [],
            "_model_name": "HBoxModel",
            "_view_module": "@jupyter-widgets/controls",
            "_model_module_version": "1.5.0",
            "_view_count": null,
            "_view_module_version": "1.5.0",
            "box_style": "",
            "layout": "IPY_MODEL_0642c5d5f20d4cb294f76c261a5c664c",
            "_model_module": "@jupyter-widgets/controls",
            "children": [
              "IPY_MODEL_cc28e949cf3d4e69b8465791d6adf16c",
              "IPY_MODEL_32123a7fc7ac47a59aaee32c5bfd490f",
              "IPY_MODEL_d70b18a55b694fc9b7b237b462cabba2"
            ]
          }
        },
        "0642c5d5f20d4cb294f76c261a5c664c": {
          "model_module": "@jupyter-widgets/base",
          "model_name": "LayoutModel",
          "model_module_version": "1.2.0",
          "state": {
            "_view_name": "LayoutView",
            "grid_template_rows": null,
            "right": null,
            "justify_content": null,
            "_view_module": "@jupyter-widgets/base",
            "overflow": null,
            "_model_module_version": "1.2.0",
            "_view_count": null,
            "flex_flow": null,
            "width": null,
            "min_width": null,
            "border": null,
            "align_items": null,
            "bottom": null,
            "_model_module": "@jupyter-widgets/base",
            "top": null,
            "grid_column": null,
            "overflow_y": null,
            "overflow_x": null,
            "grid_auto_flow": null,
            "grid_area": null,
            "grid_template_columns": null,
            "flex": null,
            "_model_name": "LayoutModel",
            "justify_items": null,
            "grid_row": null,
            "max_height": null,
            "align_content": null,
            "visibility": null,
            "align_self": null,
            "height": null,
            "min_height": null,
            "padding": null,
            "grid_auto_rows": null,
            "grid_gap": null,
            "max_width": null,
            "order": null,
            "_view_module_version": "1.2.0",
            "grid_template_areas": null,
            "object_position": null,
            "object_fit": null,
            "grid_auto_columns": null,
            "margin": null,
            "display": null,
            "left": null
          }
        },
        "cc28e949cf3d4e69b8465791d6adf16c": {
          "model_module": "@jupyter-widgets/controls",
          "model_name": "HTMLModel",
          "model_module_version": "1.5.0",
          "state": {
            "_view_name": "HTMLView",
            "style": "IPY_MODEL_2a01f8d72bc149b086d0e4e5da8ae876",
            "_dom_classes": [],
            "description": "",
            "_model_name": "HTMLModel",
            "placeholder": "​",
            "_view_module": "@jupyter-widgets/controls",
            "_model_module_version": "1.5.0",
            "value": "",
            "_view_count": null,
            "_view_module_version": "1.5.0",
            "description_tooltip": null,
            "_model_module": "@jupyter-widgets/controls",
            "layout": "IPY_MODEL_1a3492a059644b36985fe428ede2426f"
          }
        },
        "32123a7fc7ac47a59aaee32c5bfd490f": {
          "model_module": "@jupyter-widgets/controls",
          "model_name": "FloatProgressModel",
          "model_module_version": "1.5.0",
          "state": {
            "_view_name": "ProgressView",
            "style": "IPY_MODEL_93cedb56bd47424d8a91be11b016d110",
            "_dom_classes": [],
            "description": "",
            "_model_name": "FloatProgressModel",
            "bar_style": "success",
            "max": 1648877,
            "_view_module": "@jupyter-widgets/controls",
            "_model_module_version": "1.5.0",
            "value": 1648877,
            "_view_count": null,
            "_view_module_version": "1.5.0",
            "orientation": "horizontal",
            "min": 0,
            "description_tooltip": null,
            "_model_module": "@jupyter-widgets/controls",
            "layout": "IPY_MODEL_a3fd694ada234644abcd1af5bacfc0cd"
          }
        },
        "d70b18a55b694fc9b7b237b462cabba2": {
          "model_module": "@jupyter-widgets/controls",
          "model_name": "HTMLModel",
          "model_module_version": "1.5.0",
          "state": {
            "_view_name": "HTMLView",
            "style": "IPY_MODEL_b6f95bf23e8947d985ac4c4b1731e93a",
            "_dom_classes": [],
            "description": "",
            "_model_name": "HTMLModel",
            "placeholder": "​",
            "_view_module": "@jupyter-widgets/controls",
            "_model_module_version": "1.5.0",
            "value": " 1649664/? [00:00&lt;00:00, 20326711.64it/s]",
            "_view_count": null,
            "_view_module_version": "1.5.0",
            "description_tooltip": null,
            "_model_module": "@jupyter-widgets/controls",
            "layout": "IPY_MODEL_e3111f1691424f26ac7e6f2be84c4aa2"
          }
        },
        "2a01f8d72bc149b086d0e4e5da8ae876": {
          "model_module": "@jupyter-widgets/controls",
          "model_name": "DescriptionStyleModel",
          "model_module_version": "1.5.0",
          "state": {
            "_view_name": "StyleView",
            "_model_name": "DescriptionStyleModel",
            "description_width": "",
            "_view_module": "@jupyter-widgets/base",
            "_model_module_version": "1.5.0",
            "_view_count": null,
            "_view_module_version": "1.2.0",
            "_model_module": "@jupyter-widgets/controls"
          }
        },
        "1a3492a059644b36985fe428ede2426f": {
          "model_module": "@jupyter-widgets/base",
          "model_name": "LayoutModel",
          "model_module_version": "1.2.0",
          "state": {
            "_view_name": "LayoutView",
            "grid_template_rows": null,
            "right": null,
            "justify_content": null,
            "_view_module": "@jupyter-widgets/base",
            "overflow": null,
            "_model_module_version": "1.2.0",
            "_view_count": null,
            "flex_flow": null,
            "width": null,
            "min_width": null,
            "border": null,
            "align_items": null,
            "bottom": null,
            "_model_module": "@jupyter-widgets/base",
            "top": null,
            "grid_column": null,
            "overflow_y": null,
            "overflow_x": null,
            "grid_auto_flow": null,
            "grid_area": null,
            "grid_template_columns": null,
            "flex": null,
            "_model_name": "LayoutModel",
            "justify_items": null,
            "grid_row": null,
            "max_height": null,
            "align_content": null,
            "visibility": null,
            "align_self": null,
            "height": null,
            "min_height": null,
            "padding": null,
            "grid_auto_rows": null,
            "grid_gap": null,
            "max_width": null,
            "order": null,
            "_view_module_version": "1.2.0",
            "grid_template_areas": null,
            "object_position": null,
            "object_fit": null,
            "grid_auto_columns": null,
            "margin": null,
            "display": null,
            "left": null
          }
        },
        "93cedb56bd47424d8a91be11b016d110": {
          "model_module": "@jupyter-widgets/controls",
          "model_name": "ProgressStyleModel",
          "model_module_version": "1.5.0",
          "state": {
            "_view_name": "StyleView",
            "_model_name": "ProgressStyleModel",
            "description_width": "",
            "_view_module": "@jupyter-widgets/base",
            "_model_module_version": "1.5.0",
            "_view_count": null,
            "_view_module_version": "1.2.0",
            "bar_color": null,
            "_model_module": "@jupyter-widgets/controls"
          }
        },
        "a3fd694ada234644abcd1af5bacfc0cd": {
          "model_module": "@jupyter-widgets/base",
          "model_name": "LayoutModel",
          "model_module_version": "1.2.0",
          "state": {
            "_view_name": "LayoutView",
            "grid_template_rows": null,
            "right": null,
            "justify_content": null,
            "_view_module": "@jupyter-widgets/base",
            "overflow": null,
            "_model_module_version": "1.2.0",
            "_view_count": null,
            "flex_flow": null,
            "width": null,
            "min_width": null,
            "border": null,
            "align_items": null,
            "bottom": null,
            "_model_module": "@jupyter-widgets/base",
            "top": null,
            "grid_column": null,
            "overflow_y": null,
            "overflow_x": null,
            "grid_auto_flow": null,
            "grid_area": null,
            "grid_template_columns": null,
            "flex": null,
            "_model_name": "LayoutModel",
            "justify_items": null,
            "grid_row": null,
            "max_height": null,
            "align_content": null,
            "visibility": null,
            "align_self": null,
            "height": null,
            "min_height": null,
            "padding": null,
            "grid_auto_rows": null,
            "grid_gap": null,
            "max_width": null,
            "order": null,
            "_view_module_version": "1.2.0",
            "grid_template_areas": null,
            "object_position": null,
            "object_fit": null,
            "grid_auto_columns": null,
            "margin": null,
            "display": null,
            "left": null
          }
        },
        "b6f95bf23e8947d985ac4c4b1731e93a": {
          "model_module": "@jupyter-widgets/controls",
          "model_name": "DescriptionStyleModel",
          "model_module_version": "1.5.0",
          "state": {
            "_view_name": "StyleView",
            "_model_name": "DescriptionStyleModel",
            "description_width": "",
            "_view_module": "@jupyter-widgets/base",
            "_model_module_version": "1.5.0",
            "_view_count": null,
            "_view_module_version": "1.2.0",
            "_model_module": "@jupyter-widgets/controls"
          }
        },
        "e3111f1691424f26ac7e6f2be84c4aa2": {
          "model_module": "@jupyter-widgets/base",
          "model_name": "LayoutModel",
          "model_module_version": "1.2.0",
          "state": {
            "_view_name": "LayoutView",
            "grid_template_rows": null,
            "right": null,
            "justify_content": null,
            "_view_module": "@jupyter-widgets/base",
            "overflow": null,
            "_model_module_version": "1.2.0",
            "_view_count": null,
            "flex_flow": null,
            "width": null,
            "min_width": null,
            "border": null,
            "align_items": null,
            "bottom": null,
            "_model_module": "@jupyter-widgets/base",
            "top": null,
            "grid_column": null,
            "overflow_y": null,
            "overflow_x": null,
            "grid_auto_flow": null,
            "grid_area": null,
            "grid_template_columns": null,
            "flex": null,
            "_model_name": "LayoutModel",
            "justify_items": null,
            "grid_row": null,
            "max_height": null,
            "align_content": null,
            "visibility": null,
            "align_self": null,
            "height": null,
            "min_height": null,
            "padding": null,
            "grid_auto_rows": null,
            "grid_gap": null,
            "max_width": null,
            "order": null,
            "_view_module_version": "1.2.0",
            "grid_template_areas": null,
            "object_position": null,
            "object_fit": null,
            "grid_auto_columns": null,
            "margin": null,
            "display": null,
            "left": null
          }
        },
        "bd0ba7f724024767bd8bcc7b31c3cbbb": {
          "model_module": "@jupyter-widgets/controls",
          "model_name": "HBoxModel",
          "model_module_version": "1.5.0",
          "state": {
            "_view_name": "HBoxView",
            "_dom_classes": [],
            "_model_name": "HBoxModel",
            "_view_module": "@jupyter-widgets/controls",
            "_model_module_version": "1.5.0",
            "_view_count": null,
            "_view_module_version": "1.5.0",
            "box_style": "",
            "layout": "IPY_MODEL_b1edddeb61f24cceaabebb51925e8985",
            "_model_module": "@jupyter-widgets/controls",
            "children": [
              "IPY_MODEL_ab006660f8354264a5cbe630c594543b",
              "IPY_MODEL_6e54a6c765de471da2059895d41a3301",
              "IPY_MODEL_30314ce3f4c24d37940bfab273361e62"
            ]
          }
        },
        "b1edddeb61f24cceaabebb51925e8985": {
          "model_module": "@jupyter-widgets/base",
          "model_name": "LayoutModel",
          "model_module_version": "1.2.0",
          "state": {
            "_view_name": "LayoutView",
            "grid_template_rows": null,
            "right": null,
            "justify_content": null,
            "_view_module": "@jupyter-widgets/base",
            "overflow": null,
            "_model_module_version": "1.2.0",
            "_view_count": null,
            "flex_flow": null,
            "width": null,
            "min_width": null,
            "border": null,
            "align_items": null,
            "bottom": null,
            "_model_module": "@jupyter-widgets/base",
            "top": null,
            "grid_column": null,
            "overflow_y": null,
            "overflow_x": null,
            "grid_auto_flow": null,
            "grid_area": null,
            "grid_template_columns": null,
            "flex": null,
            "_model_name": "LayoutModel",
            "justify_items": null,
            "grid_row": null,
            "max_height": null,
            "align_content": null,
            "visibility": null,
            "align_self": null,
            "height": null,
            "min_height": null,
            "padding": null,
            "grid_auto_rows": null,
            "grid_gap": null,
            "max_width": null,
            "order": null,
            "_view_module_version": "1.2.0",
            "grid_template_areas": null,
            "object_position": null,
            "object_fit": null,
            "grid_auto_columns": null,
            "margin": null,
            "display": null,
            "left": null
          }
        },
        "ab006660f8354264a5cbe630c594543b": {
          "model_module": "@jupyter-widgets/controls",
          "model_name": "HTMLModel",
          "model_module_version": "1.5.0",
          "state": {
            "_view_name": "HTMLView",
            "style": "IPY_MODEL_f8a87a652d764c8ba5ef46794d4c8bb3",
            "_dom_classes": [],
            "description": "",
            "_model_name": "HTMLModel",
            "placeholder": "​",
            "_view_module": "@jupyter-widgets/controls",
            "_model_module_version": "1.5.0",
            "value": "",
            "_view_count": null,
            "_view_module_version": "1.5.0",
            "description_tooltip": null,
            "_model_module": "@jupyter-widgets/controls",
            "layout": "IPY_MODEL_93a4a2827373453088cbc38dd715dee5"
          }
        },
        "6e54a6c765de471da2059895d41a3301": {
          "model_module": "@jupyter-widgets/controls",
          "model_name": "FloatProgressModel",
          "model_module_version": "1.5.0",
          "state": {
            "_view_name": "ProgressView",
            "style": "IPY_MODEL_033b01a27d53464496183171a2d4d0fa",
            "_dom_classes": [],
            "description": "",
            "_model_name": "FloatProgressModel",
            "bar_style": "success",
            "max": 4542,
            "_view_module": "@jupyter-widgets/controls",
            "_model_module_version": "1.5.0",
            "value": 4542,
            "_view_count": null,
            "_view_module_version": "1.5.0",
            "orientation": "horizontal",
            "min": 0,
            "description_tooltip": null,
            "_model_module": "@jupyter-widgets/controls",
            "layout": "IPY_MODEL_f0ab403d9a3a48959707f174d89e845e"
          }
        },
        "30314ce3f4c24d37940bfab273361e62": {
          "model_module": "@jupyter-widgets/controls",
          "model_name": "HTMLModel",
          "model_module_version": "1.5.0",
          "state": {
            "_view_name": "HTMLView",
            "style": "IPY_MODEL_9969cb53057940f6a0fbc03dc96b52fb",
            "_dom_classes": [],
            "description": "",
            "_model_name": "HTMLModel",
            "placeholder": "​",
            "_view_module": "@jupyter-widgets/controls",
            "_model_module_version": "1.5.0",
            "value": " 5120/? [00:00&lt;00:00, 177972.19it/s]",
            "_view_count": null,
            "_view_module_version": "1.5.0",
            "description_tooltip": null,
            "_model_module": "@jupyter-widgets/controls",
            "layout": "IPY_MODEL_d023ec397f0d4a8d8991b34c1e7ee406"
          }
        },
        "f8a87a652d764c8ba5ef46794d4c8bb3": {
          "model_module": "@jupyter-widgets/controls",
          "model_name": "DescriptionStyleModel",
          "model_module_version": "1.5.0",
          "state": {
            "_view_name": "StyleView",
            "_model_name": "DescriptionStyleModel",
            "description_width": "",
            "_view_module": "@jupyter-widgets/base",
            "_model_module_version": "1.5.0",
            "_view_count": null,
            "_view_module_version": "1.2.0",
            "_model_module": "@jupyter-widgets/controls"
          }
        },
        "93a4a2827373453088cbc38dd715dee5": {
          "model_module": "@jupyter-widgets/base",
          "model_name": "LayoutModel",
          "model_module_version": "1.2.0",
          "state": {
            "_view_name": "LayoutView",
            "grid_template_rows": null,
            "right": null,
            "justify_content": null,
            "_view_module": "@jupyter-widgets/base",
            "overflow": null,
            "_model_module_version": "1.2.0",
            "_view_count": null,
            "flex_flow": null,
            "width": null,
            "min_width": null,
            "border": null,
            "align_items": null,
            "bottom": null,
            "_model_module": "@jupyter-widgets/base",
            "top": null,
            "grid_column": null,
            "overflow_y": null,
            "overflow_x": null,
            "grid_auto_flow": null,
            "grid_area": null,
            "grid_template_columns": null,
            "flex": null,
            "_model_name": "LayoutModel",
            "justify_items": null,
            "grid_row": null,
            "max_height": null,
            "align_content": null,
            "visibility": null,
            "align_self": null,
            "height": null,
            "min_height": null,
            "padding": null,
            "grid_auto_rows": null,
            "grid_gap": null,
            "max_width": null,
            "order": null,
            "_view_module_version": "1.2.0",
            "grid_template_areas": null,
            "object_position": null,
            "object_fit": null,
            "grid_auto_columns": null,
            "margin": null,
            "display": null,
            "left": null
          }
        },
        "033b01a27d53464496183171a2d4d0fa": {
          "model_module": "@jupyter-widgets/controls",
          "model_name": "ProgressStyleModel",
          "model_module_version": "1.5.0",
          "state": {
            "_view_name": "StyleView",
            "_model_name": "ProgressStyleModel",
            "description_width": "",
            "_view_module": "@jupyter-widgets/base",
            "_model_module_version": "1.5.0",
            "_view_count": null,
            "_view_module_version": "1.2.0",
            "bar_color": null,
            "_model_module": "@jupyter-widgets/controls"
          }
        },
        "f0ab403d9a3a48959707f174d89e845e": {
          "model_module": "@jupyter-widgets/base",
          "model_name": "LayoutModel",
          "model_module_version": "1.2.0",
          "state": {
            "_view_name": "LayoutView",
            "grid_template_rows": null,
            "right": null,
            "justify_content": null,
            "_view_module": "@jupyter-widgets/base",
            "overflow": null,
            "_model_module_version": "1.2.0",
            "_view_count": null,
            "flex_flow": null,
            "width": null,
            "min_width": null,
            "border": null,
            "align_items": null,
            "bottom": null,
            "_model_module": "@jupyter-widgets/base",
            "top": null,
            "grid_column": null,
            "overflow_y": null,
            "overflow_x": null,
            "grid_auto_flow": null,
            "grid_area": null,
            "grid_template_columns": null,
            "flex": null,
            "_model_name": "LayoutModel",
            "justify_items": null,
            "grid_row": null,
            "max_height": null,
            "align_content": null,
            "visibility": null,
            "align_self": null,
            "height": null,
            "min_height": null,
            "padding": null,
            "grid_auto_rows": null,
            "grid_gap": null,
            "max_width": null,
            "order": null,
            "_view_module_version": "1.2.0",
            "grid_template_areas": null,
            "object_position": null,
            "object_fit": null,
            "grid_auto_columns": null,
            "margin": null,
            "display": null,
            "left": null
          }
        },
        "9969cb53057940f6a0fbc03dc96b52fb": {
          "model_module": "@jupyter-widgets/controls",
          "model_name": "DescriptionStyleModel",
          "model_module_version": "1.5.0",
          "state": {
            "_view_name": "StyleView",
            "_model_name": "DescriptionStyleModel",
            "description_width": "",
            "_view_module": "@jupyter-widgets/base",
            "_model_module_version": "1.5.0",
            "_view_count": null,
            "_view_module_version": "1.2.0",
            "_model_module": "@jupyter-widgets/controls"
          }
        },
        "d023ec397f0d4a8d8991b34c1e7ee406": {
          "model_module": "@jupyter-widgets/base",
          "model_name": "LayoutModel",
          "model_module_version": "1.2.0",
          "state": {
            "_view_name": "LayoutView",
            "grid_template_rows": null,
            "right": null,
            "justify_content": null,
            "_view_module": "@jupyter-widgets/base",
            "overflow": null,
            "_model_module_version": "1.2.0",
            "_view_count": null,
            "flex_flow": null,
            "width": null,
            "min_width": null,
            "border": null,
            "align_items": null,
            "bottom": null,
            "_model_module": "@jupyter-widgets/base",
            "top": null,
            "grid_column": null,
            "overflow_y": null,
            "overflow_x": null,
            "grid_auto_flow": null,
            "grid_area": null,
            "grid_template_columns": null,
            "flex": null,
            "_model_name": "LayoutModel",
            "justify_items": null,
            "grid_row": null,
            "max_height": null,
            "align_content": null,
            "visibility": null,
            "align_self": null,
            "height": null,
            "min_height": null,
            "padding": null,
            "grid_auto_rows": null,
            "grid_gap": null,
            "max_width": null,
            "order": null,
            "_view_module_version": "1.2.0",
            "grid_template_areas": null,
            "object_position": null,
            "object_fit": null,
            "grid_auto_columns": null,
            "margin": null,
            "display": null,
            "left": null
          }
        }
      }
    }
  },
  "cells": [
    {
      "cell_type": "code",
      "metadata": {
        "id": "2SnIeccyw8Ob"
      },
      "source": [
        "import torch \n",
        "from torch import nn, optim\n",
        "import torchvision \n",
        "from torchvision import datasets, transforms\n",
        "from torch.utils.data import DataLoader\n",
        "import matplotlib.pyplot as plt \n",
        "import math \n",
        "import numpy as np\n",
        "%matplotlib inline "
      ],
      "execution_count": 2,
      "outputs": []
    },
    {
      "cell_type": "code",
      "metadata": {
        "id": "gL-c5iyVxz5h"
      },
      "source": [
        "#device = torch.device(\"cuda:0\" if torch.cuda.is_available else \"cpu\")\n",
        "device = torch.device('cpu')"
      ],
      "execution_count": 3,
      "outputs": []
    },
    {
      "cell_type": "code",
      "metadata": {
        "id": "OmuCIqDiw8Of"
      },
      "source": [
        "num_epochs = 10 \n",
        "num_classes = 10 # 0 - 9\n",
        "learning_rate = 0.0005 \n",
        "input_size = 28 * 28 \n",
        "batch_size = 50\n",
        "hidden_sizes = [128, 64] # arbitrary choice "
      ],
      "execution_count": 4,
      "outputs": []
    },
    {
      "cell_type": "code",
      "metadata": {
        "id": "V77W0o8sw8Of"
      },
      "source": [
        "transform = transforms.Compose([transforms.ToTensor(),transforms.Normalize((0.5,), (0.5,)),])"
      ],
      "execution_count": 5,
      "outputs": []
    },
    {
      "cell_type": "code",
      "metadata": {
        "id": "GJEL2XtAw8Og",
        "colab": {
          "base_uri": "https://localhost:8080/",
          "height": 457,
          "referenced_widgets": [
            "6d16881879434b28a54ec98b6f178207",
            "498ac2d67a41488a975fe2b76fa22bd5",
            "f4200721ac78400db513c1678a9266bc",
            "55a7a2cb585e424695874528cdf7e30d",
            "72f0291c85484bdfa3a56d041d487857",
            "0b58fa478ec04942922bfcf5ffbffa5a",
            "615b8d3e45ef45c59a23a11767c6c9b0",
            "f8da25c86f4f4d058057f2b03deeaae4",
            "b9423ad6d3e948bea9aef0957020aa03",
            "5d5c9cd36f194086b7a41d5bf190402f",
            "e3e2c536145546e6a5e07b8c39537092",
            "b6879f1002344070893b93988437494a",
            "7c92f849335d43d09eac5cf2d2fb8d7a",
            "dcca14c44654419fb60a74c04d8fd66d",
            "2a27f4358b7246809ea9f908516fd10e",
            "42ec74f82ea24a639582ed548e862d02",
            "aebddd2d0edf4dfe8b347953b2dc7ab8",
            "d37f7721fb7a4ae399b2435b29b56412",
            "351ecf623d6b4658bb8adefb8e84a8e0",
            "6eb168d6da8542288923299b3572eda8",
            "b7b6d9b994ed4852abdfcfcfe5ff19a9",
            "bc003fd085e54d3f96128baf339388b1",
            "b749629c8cf14f2096d22be7ee495343",
            "0642c5d5f20d4cb294f76c261a5c664c",
            "cc28e949cf3d4e69b8465791d6adf16c",
            "32123a7fc7ac47a59aaee32c5bfd490f",
            "d70b18a55b694fc9b7b237b462cabba2",
            "2a01f8d72bc149b086d0e4e5da8ae876",
            "1a3492a059644b36985fe428ede2426f",
            "93cedb56bd47424d8a91be11b016d110",
            "a3fd694ada234644abcd1af5bacfc0cd",
            "b6f95bf23e8947d985ac4c4b1731e93a",
            "e3111f1691424f26ac7e6f2be84c4aa2",
            "bd0ba7f724024767bd8bcc7b31c3cbbb",
            "b1edddeb61f24cceaabebb51925e8985",
            "ab006660f8354264a5cbe630c594543b",
            "6e54a6c765de471da2059895d41a3301",
            "30314ce3f4c24d37940bfab273361e62",
            "f8a87a652d764c8ba5ef46794d4c8bb3",
            "93a4a2827373453088cbc38dd715dee5",
            "033b01a27d53464496183171a2d4d0fa",
            "f0ab403d9a3a48959707f174d89e845e",
            "9969cb53057940f6a0fbc03dc96b52fb",
            "d023ec397f0d4a8d8991b34c1e7ee406"
          ]
        },
        "outputId": "d75e0158-464b-449c-db81-279880c826a1"
      },
      "source": [
        "train_data = datasets.MNIST('./', download=True, train=True, transform=transform)\n",
        "test_data = datasets.MNIST('./', download=True, train=False, transform=transform)\n",
        "\n",
        "train_loader = DataLoader(train_data, batch_size=batch_size, shuffle=True, num_workers=2)\n",
        "test_loader = DataLoader(test_data, batch_size=batch_size, shuffle=False , num_workers=2)"
      ],
      "execution_count": 6,
      "outputs": [
        {
          "output_type": "stream",
          "text": [
            "Downloading http://yann.lecun.com/exdb/mnist/train-images-idx3-ubyte.gz\n",
            "Downloading http://yann.lecun.com/exdb/mnist/train-images-idx3-ubyte.gz to ./MNIST/raw/train-images-idx3-ubyte.gz\n"
          ],
          "name": "stdout"
        },
        {
          "output_type": "display_data",
          "data": {
            "application/vnd.jupyter.widget-view+json": {
              "model_id": "6d16881879434b28a54ec98b6f178207",
              "version_minor": 0,
              "version_major": 2
            },
            "text/plain": [
              "  0%|          | 0/9912422 [00:00<?, ?it/s]"
            ]
          },
          "metadata": {}
        },
        {
          "output_type": "stream",
          "text": [
            "Extracting ./MNIST/raw/train-images-idx3-ubyte.gz to ./MNIST/raw\n",
            "\n",
            "Downloading http://yann.lecun.com/exdb/mnist/train-labels-idx1-ubyte.gz\n",
            "Downloading http://yann.lecun.com/exdb/mnist/train-labels-idx1-ubyte.gz to ./MNIST/raw/train-labels-idx1-ubyte.gz\n"
          ],
          "name": "stdout"
        },
        {
          "output_type": "display_data",
          "data": {
            "application/vnd.jupyter.widget-view+json": {
              "model_id": "b6879f1002344070893b93988437494a",
              "version_minor": 0,
              "version_major": 2
            },
            "text/plain": [
              "  0%|          | 0/28881 [00:00<?, ?it/s]"
            ]
          },
          "metadata": {}
        },
        {
          "output_type": "stream",
          "text": [
            "Extracting ./MNIST/raw/train-labels-idx1-ubyte.gz to ./MNIST/raw\n",
            "\n",
            "Downloading http://yann.lecun.com/exdb/mnist/t10k-images-idx3-ubyte.gz\n",
            "Downloading http://yann.lecun.com/exdb/mnist/t10k-images-idx3-ubyte.gz to ./MNIST/raw/t10k-images-idx3-ubyte.gz\n"
          ],
          "name": "stdout"
        },
        {
          "output_type": "display_data",
          "data": {
            "application/vnd.jupyter.widget-view+json": {
              "model_id": "b749629c8cf14f2096d22be7ee495343",
              "version_minor": 0,
              "version_major": 2
            },
            "text/plain": [
              "  0%|          | 0/1648877 [00:00<?, ?it/s]"
            ]
          },
          "metadata": {}
        },
        {
          "output_type": "stream",
          "text": [
            "Extracting ./MNIST/raw/t10k-images-idx3-ubyte.gz to ./MNIST/raw\n",
            "\n",
            "Downloading http://yann.lecun.com/exdb/mnist/t10k-labels-idx1-ubyte.gz\n",
            "Downloading http://yann.lecun.com/exdb/mnist/t10k-labels-idx1-ubyte.gz to ./MNIST/raw/t10k-labels-idx1-ubyte.gz\n"
          ],
          "name": "stdout"
        },
        {
          "output_type": "display_data",
          "data": {
            "application/vnd.jupyter.widget-view+json": {
              "model_id": "bd0ba7f724024767bd8bcc7b31c3cbbb",
              "version_minor": 0,
              "version_major": 2
            },
            "text/plain": [
              "  0%|          | 0/4542 [00:00<?, ?it/s]"
            ]
          },
          "metadata": {}
        },
        {
          "output_type": "stream",
          "text": [
            "Extracting ./MNIST/raw/t10k-labels-idx1-ubyte.gz to ./MNIST/raw\n",
            "\n"
          ],
          "name": "stdout"
        },
        {
          "output_type": "stream",
          "text": [
            "/usr/local/lib/python3.7/dist-packages/torchvision/datasets/mnist.py:498: UserWarning: The given NumPy array is not writeable, and PyTorch does not support non-writeable tensors. This means you can write to the underlying (supposedly non-writeable) NumPy array using the tensor. You may want to copy the array to protect its data or make it writeable before converting it to a tensor. This type of warning will be suppressed for the rest of this program. (Triggered internally at  /pytorch/torch/csrc/utils/tensor_numpy.cpp:180.)\n",
            "  return torch.from_numpy(parsed.astype(m[2], copy=False)).view(*s)\n"
          ],
          "name": "stderr"
        }
      ]
    },
    {
      "cell_type": "code",
      "metadata": {
        "colab": {
          "base_uri": "https://localhost:8080/"
        },
        "id": "HMa4vJ2Aw8Oi",
        "outputId": "514e9306-7b2a-4952-f473-2c102e73c585"
      },
      "source": [
        "checkdata = iter(train_loader)\n",
        "img, label = next(checkdata)\n",
        "print(img.shape, label.shape)"
      ],
      "execution_count": 7,
      "outputs": [
        {
          "output_type": "stream",
          "text": [
            "torch.Size([50, 1, 28, 28]) torch.Size([50])\n"
          ],
          "name": "stdout"
        }
      ]
    },
    {
      "cell_type": "code",
      "metadata": {
        "colab": {
          "base_uri": "https://localhost:8080/",
          "height": 413
        },
        "id": "Qk0uv2MKw8On",
        "outputId": "b5ba1dea-0a01-4e03-d618-064534cf2a35"
      },
      "source": [
        "for i in range(1,10):\n",
        "    print(label[i].item())\n",
        "    plt.subplot(3, 3, i)\n",
        "    plt.imshow(img[i][0]) #, cmap = \"gray_r\")    \n",
        "plt.show()"
      ],
      "execution_count": 8,
      "outputs": [
        {
          "output_type": "stream",
          "text": [
            "4\n",
            "1\n",
            "6\n",
            "7\n",
            "1\n",
            "5\n",
            "2\n",
            "0\n",
            "3\n"
          ],
          "name": "stdout"
        },
        {
          "output_type": "display_data",
          "data": {
            "image/png": "[encoded data removed]",
            "text/plain": [
              "<Figure size 432x288 with 9 Axes>"
            ]
          },
          "metadata": {
            "needs_background": "light"
          }
        }
      ]
    },
    {
      "cell_type": "code",
      "metadata": {
        "colab": {
          "base_uri": "https://localhost:8080/",
          "height": 51
        },
        "id": "JCjBXfNvw8Os",
        "outputId": "d597152a-51fd-4324-df0b-3ad1d130fd30"
      },
      "source": [
        "class DigitRecognizer(nn.Module):\n",
        "\n",
        "    def __init__(self, input_size, hidden_layers, num_classes):\n",
        "        super(DigitRecognizer, self).__init__()\n",
        "        self.input = nn.Linear(input_size, hidden_sizes[0])\n",
        "        self.relu_0 = nn.ReLU()\n",
        "        self.hidden1 = nn.Linear(hidden_sizes[0], hidden_sizes[1])\n",
        "        self.relu_1 = nn.ReLU()\n",
        "        self.output = nn.Linear(hidden_sizes[1], num_classes)\n",
        "        \n",
        "    def forward(self, X):\n",
        "        model = self.input(X)\n",
        "        model = self.relu_0(model)\n",
        "        model = self.hidden1(model)\n",
        "        model = self.relu_1(model)\n",
        "        model = self.output(model)\n",
        "        return model \n",
        "\n",
        "model = DigitRecognizer(input_size, hidden_sizes, num_classes)      \n",
        "repr(model)"
      ],
      "execution_count": 9,
      "outputs": [
        {
          "output_type": "execute_result",
          "data": {
            "application/vnd.google.colaboratory.intrinsic+json": {
              "type": "string"
            },
            "text/plain": [
              "'DigitRecognizer(\\n  (input): Linear(in_features=784, out_features=128, bias=True)\\n  (relu_0): ReLU()\\n  (hidden1): Linear(in_features=128, out_features=64, bias=True)\\n  (relu_1): ReLU()\\n  (output): Linear(in_features=64, out_features=10, bias=True)\\n)'"
            ]
          },
          "metadata": {},
          "execution_count": 9
        }
      ]
    },
    {
      "cell_type": "code",
      "metadata": {
        "id": "zUWXgGPkw8Ov"
      },
      "source": [
        "criterion = nn.CrossEntropyLoss()\n",
        "optimizer = torch.optim.Adam(model.parameters(), lr = learning_rate)"
      ],
      "execution_count": 10,
      "outputs": []
    },
    {
      "cell_type": "code",
      "metadata": {
        "colab": {
          "base_uri": "https://localhost:8080/"
        },
        "id": "kqqVjWV0w8Ow",
        "outputId": "00f072cc-b7be-47f8-a60c-db43a36a9c18"
      },
      "source": [
        "samples = len(train_loader)\n",
        "samples # seeing size of training samples"
      ],
      "execution_count": 11,
      "outputs": [
        {
          "output_type": "execute_result",
          "data": {
            "text/plain": [
              "1200"
            ]
          },
          "metadata": {},
          "execution_count": 11
        }
      ]
    },
    {
      "cell_type": "code",
      "metadata": {
        "id": "K_o1yhPI5C30"
      },
      "source": [
        "model = model.to(device) # putting the model in the GPU"
      ],
      "execution_count": 12,
      "outputs": []
    },
    {
      "cell_type": "code",
      "metadata": {
        "colab": {
          "base_uri": "https://localhost:8080/"
        },
        "id": "qUDG5eWbw8Ox",
        "outputId": "148c4268-769b-4c8c-fcb3-2543e17e2817"
      },
      "source": [
        "for epoch in range(1, num_epochs + 1):\n",
        "    for step, (images, labels) in enumerate(train_loader, start = 1): # batch training loop \n",
        "        images = images.reshape(-1, 784).to(device) # flattening image to # of input nodes\n",
        "\n",
        "        # passing data to be computed in the GPU \n",
        "        images = images.to(device)\n",
        "        labels = labels.to(device)\n",
        "        \n",
        "        outputs = model(images)\n",
        "\n",
        "        loss = criterion(outputs, labels)\n",
        "        optimizer.zero_grad()\n",
        "        loss.backward()\n",
        "        optimizer.step()\n",
        "\n",
        "        if step % 100 == 0:\n",
        "          print(\"Epoch: {}/{}, step {}/ {}, loss: {:4f}\".format(epoch, num_epochs, step, samples, loss.item()))"
      ],
      "execution_count": 13,
      "outputs": [
        {
          "output_type": "stream",
          "text": [
            "Epoch: 1/10, step 100/ 1200, loss: 0.669373\n",
            "Epoch: 1/10, step 200/ 1200, loss: 0.490165\n",
            "Epoch: 1/10, step 300/ 1200, loss: 0.309353\n",
            "Epoch: 1/10, step 400/ 1200, loss: 0.483252\n",
            "Epoch: 1/10, step 500/ 1200, loss: 0.329451\n",
            "Epoch: 1/10, step 600/ 1200, loss: 0.175163\n",
            "Epoch: 1/10, step 700/ 1200, loss: 0.278525\n",
            "Epoch: 1/10, step 800/ 1200, loss: 0.248053\n",
            "Epoch: 1/10, step 900/ 1200, loss: 0.392618\n",
            "Epoch: 1/10, step 1000/ 1200, loss: 0.222862\n",
            "Epoch: 1/10, step 1100/ 1200, loss: 0.325902\n",
            "Epoch: 1/10, step 1200/ 1200, loss: 0.461347\n",
            "Epoch: 2/10, step 100/ 1200, loss: 0.151888\n",
            "Epoch: 2/10, step 200/ 1200, loss: 0.251654\n",
            "Epoch: 2/10, step 300/ 1200, loss: 0.230280\n",
            "Epoch: 2/10, step 400/ 1200, loss: 0.144789\n",
            "Epoch: 2/10, step 500/ 1200, loss: 0.288203\n",
            "Epoch: 2/10, step 600/ 1200, loss: 0.233577\n",
            "Epoch: 2/10, step 700/ 1200, loss: 0.106262\n",
            "Epoch: 2/10, step 800/ 1200, loss: 0.155746\n",
            "Epoch: 2/10, step 900/ 1200, loss: 0.235334\n",
            "Epoch: 2/10, step 1000/ 1200, loss: 0.323576\n",
            "Epoch: 2/10, step 1100/ 1200, loss: 0.148265\n",
            "Epoch: 2/10, step 1200/ 1200, loss: 0.176755\n",
            "Epoch: 3/10, step 100/ 1200, loss: 0.394647\n",
            "Epoch: 3/10, step 200/ 1200, loss: 0.097918\n",
            "Epoch: 3/10, step 300/ 1200, loss: 0.021740\n",
            "Epoch: 3/10, step 400/ 1200, loss: 0.219407\n",
            "Epoch: 3/10, step 500/ 1200, loss: 0.211465\n",
            "Epoch: 3/10, step 600/ 1200, loss: 0.125237\n",
            "Epoch: 3/10, step 700/ 1200, loss: 0.139772\n",
            "Epoch: 3/10, step 800/ 1200, loss: 0.106921\n",
            "Epoch: 3/10, step 900/ 1200, loss: 0.173816\n",
            "Epoch: 3/10, step 1000/ 1200, loss: 0.037370\n",
            "Epoch: 3/10, step 1100/ 1200, loss: 0.052217\n",
            "Epoch: 3/10, step 1200/ 1200, loss: 0.237333\n",
            "Epoch: 4/10, step 100/ 1200, loss: 0.309534\n",
            "Epoch: 4/10, step 200/ 1200, loss: 0.192533\n",
            "Epoch: 4/10, step 300/ 1200, loss: 0.067278\n",
            "Epoch: 4/10, step 400/ 1200, loss: 0.064140\n",
            "Epoch: 4/10, step 500/ 1200, loss: 0.056398\n",
            "Epoch: 4/10, step 600/ 1200, loss: 0.106208\n",
            "Epoch: 4/10, step 700/ 1200, loss: 0.076966\n",
            "Epoch: 4/10, step 800/ 1200, loss: 0.027610\n",
            "Epoch: 4/10, step 900/ 1200, loss: 0.148046\n",
            "Epoch: 4/10, step 1000/ 1200, loss: 0.074103\n",
            "Epoch: 4/10, step 1100/ 1200, loss: 0.141091\n",
            "Epoch: 4/10, step 1200/ 1200, loss: 0.148487\n",
            "Epoch: 5/10, step 100/ 1200, loss: 0.047208\n",
            "Epoch: 5/10, step 200/ 1200, loss: 0.310470\n",
            "Epoch: 5/10, step 300/ 1200, loss: 0.052672\n",
            "Epoch: 5/10, step 400/ 1200, loss: 0.136411\n",
            "Epoch: 5/10, step 500/ 1200, loss: 0.156735\n",
            "Epoch: 5/10, step 600/ 1200, loss: 0.028448\n",
            "Epoch: 5/10, step 700/ 1200, loss: 0.090605\n",
            "Epoch: 5/10, step 800/ 1200, loss: 0.027000\n",
            "Epoch: 5/10, step 900/ 1200, loss: 0.044950\n",
            "Epoch: 5/10, step 1000/ 1200, loss: 0.138842\n",
            "Epoch: 5/10, step 1100/ 1200, loss: 0.468269\n",
            "Epoch: 5/10, step 1200/ 1200, loss: 0.096968\n",
            "Epoch: 6/10, step 100/ 1200, loss: 0.076369\n",
            "Epoch: 6/10, step 200/ 1200, loss: 0.031834\n",
            "Epoch: 6/10, step 300/ 1200, loss: 0.127515\n",
            "Epoch: 6/10, step 400/ 1200, loss: 0.184215\n",
            "Epoch: 6/10, step 500/ 1200, loss: 0.011809\n",
            "Epoch: 6/10, step 600/ 1200, loss: 0.014709\n",
            "Epoch: 6/10, step 700/ 1200, loss: 0.125580\n",
            "Epoch: 6/10, step 800/ 1200, loss: 0.064035\n",
            "Epoch: 6/10, step 900/ 1200, loss: 0.009714\n",
            "Epoch: 6/10, step 1000/ 1200, loss: 0.169404\n",
            "Epoch: 6/10, step 1100/ 1200, loss: 0.028550\n",
            "Epoch: 6/10, step 1200/ 1200, loss: 0.137195\n",
            "Epoch: 7/10, step 100/ 1200, loss: 0.166445\n",
            "Epoch: 7/10, step 200/ 1200, loss: 0.061598\n",
            "Epoch: 7/10, step 300/ 1200, loss: 0.182739\n",
            "Epoch: 7/10, step 400/ 1200, loss: 0.016426\n",
            "Epoch: 7/10, step 500/ 1200, loss: 0.240484\n",
            "Epoch: 7/10, step 600/ 1200, loss: 0.052302\n",
            "Epoch: 7/10, step 700/ 1200, loss: 0.032550\n",
            "Epoch: 7/10, step 800/ 1200, loss: 0.045064\n",
            "Epoch: 7/10, step 900/ 1200, loss: 0.179014\n",
            "Epoch: 7/10, step 1000/ 1200, loss: 0.057246\n",
            "Epoch: 7/10, step 1100/ 1200, loss: 0.218033\n",
            "Epoch: 7/10, step 1200/ 1200, loss: 0.061878\n",
            "Epoch: 8/10, step 100/ 1200, loss: 0.073002\n",
            "Epoch: 8/10, step 200/ 1200, loss: 0.167176\n",
            "Epoch: 8/10, step 300/ 1200, loss: 0.014910\n",
            "Epoch: 8/10, step 400/ 1200, loss: 0.068131\n",
            "Epoch: 8/10, step 500/ 1200, loss: 0.059719\n",
            "Epoch: 8/10, step 600/ 1200, loss: 0.013512\n",
            "Epoch: 8/10, step 700/ 1200, loss: 0.066267\n",
            "Epoch: 8/10, step 800/ 1200, loss: 0.010257\n",
            "Epoch: 8/10, step 900/ 1200, loss: 0.027321\n",
            "Epoch: 8/10, step 1000/ 1200, loss: 0.042559\n",
            "Epoch: 8/10, step 1100/ 1200, loss: 0.053401\n",
            "Epoch: 8/10, step 1200/ 1200, loss: 0.105733\n",
            "Epoch: 9/10, step 100/ 1200, loss: 0.032019\n",
            "Epoch: 9/10, step 200/ 1200, loss: 0.134070\n",
            "Epoch: 9/10, step 300/ 1200, loss: 0.057234\n",
            "Epoch: 9/10, step 400/ 1200, loss: 0.010330\n",
            "Epoch: 9/10, step 500/ 1200, loss: 0.252602\n",
            "Epoch: 9/10, step 600/ 1200, loss: 0.048340\n",
            "Epoch: 9/10, step 700/ 1200, loss: 0.014641\n",
            "Epoch: 9/10, step 800/ 1200, loss: 0.008177\n",
            "Epoch: 9/10, step 900/ 1200, loss: 0.131515\n",
            "Epoch: 9/10, step 1000/ 1200, loss: 0.028970\n",
            "Epoch: 9/10, step 1100/ 1200, loss: 0.010126\n",
            "Epoch: 9/10, step 1200/ 1200, loss: 0.003163\n",
            "Epoch: 10/10, step 100/ 1200, loss: 0.012551\n",
            "Epoch: 10/10, step 200/ 1200, loss: 0.095723\n",
            "Epoch: 10/10, step 300/ 1200, loss: 0.097483\n",
            "Epoch: 10/10, step 400/ 1200, loss: 0.135633\n",
            "Epoch: 10/10, step 500/ 1200, loss: 0.158154\n",
            "Epoch: 10/10, step 600/ 1200, loss: 0.061999\n",
            "Epoch: 10/10, step 700/ 1200, loss: 0.046160\n",
            "Epoch: 10/10, step 800/ 1200, loss: 0.028804\n",
            "Epoch: 10/10, step 900/ 1200, loss: 0.076544\n",
            "Epoch: 10/10, step 1000/ 1200, loss: 0.050966\n",
            "Epoch: 10/10, step 1100/ 1200, loss: 0.009664\n",
            "Epoch: 10/10, step 1200/ 1200, loss: 0.019193\n"
          ],
          "name": "stdout"
        }
      ]
    },
    {
      "cell_type": "code",
      "metadata": {
        "colab": {
          "base_uri": "https://localhost:8080/"
        },
        "id": "JF2wxlCtEjou",
        "outputId": "b55b8c6b-2de4-4e4d-8f82-bf74d98c9091"
      },
      "source": [
        "# Assessing accuracy of model\n",
        "#model.eval()\n",
        "\n",
        "correct = 0\n",
        "for (images, labels) in test_loader: # batch training loop \n",
        "    images = images.reshape(-1, 784).to(device) # flattening image to # of input nodes\n",
        "\n",
        "    # passing data to be computed in the GPU \n",
        "    images = images.to(device) # 64 images\n",
        "    labels = labels.to(device) # 64 true values\n",
        "    \n",
        "    outputs = model(images) \n",
        "\n",
        "    _, test_predicted = torch.max(outputs.data,1)\n",
        "\n",
        "\n",
        "    correct += torch.eq(labels, test_predicted).sum()\n",
        "\n",
        "accuracy = (correct/len(test_data)).item() * 100 \n",
        "print(\"Model has {:.2f} % accuracy\".format(accuracy))\n"
      ],
      "execution_count": 14,
      "outputs": [
        {
          "output_type": "stream",
          "text": [
            "Model has 97.67 % accuracy\n"
          ],
          "name": "stdout"
        }
      ]
    }
  ]
}